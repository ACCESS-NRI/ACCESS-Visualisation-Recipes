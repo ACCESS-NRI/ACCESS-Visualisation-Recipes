{
 "cells": [
  {
   "cell_type": "markdown",
   "id": "258c916f-6b0a-4a2c-8403-b4d4965c75b8",
   "metadata": {},
   "source": [
    "# Animations in accessvis\n",
    "\n",
    "Welcome to the **Animations** notebook! In this tutorial, we'll explore how to create animations using the **accessvis** package. Animations can bring your visualisations to life and help convey dynamic processes, such as changes over time or camera movements.\n",
    "\n",
    "This notebook covers the following topics:\n",
    "\n",
    "- **lv.Video()**: Understanding the arguments and basic usage to create video animations.\n",
    "- **Example 1**: Creating a simple spin and zoom animation to demonstrate camera movements.\n",
    "- **Example 2**: Visualising the maximum temperature from 2000 to 2014, with the Earth spinning while displaying the data.\n",
    "\n",
    "By the end of this notebook, you’ll be able to create basic animations and explore more complex visualisation scenarios.\n",
    "\n"
   ]
  },
  {
   "cell_type": "markdown",
   "id": "a1bb553c-cf68-46f5-a034-3d4cdfcf8be3",
   "metadata": {},
   "source": [
    "## Initial Setup"
   ]
  },
  {
   "cell_type": "code",
   "execution_count": null,
   "id": "822a9f41-0f8e-4f52-be6e-1596bd719d0e",
   "metadata": {},
   "outputs": [],
   "source": [
    "import datetime\n",
    "import os\n",
    "import numpy as np\n",
    "from tqdm.notebook import tqdm\n",
    "import accessvis\n",
    "import xarray as xr\n",
    "\n",
    "accessvis.resolution_selection(default=1)"
   ]
  },
  {
   "cell_type": "code",
   "execution_count": null,
   "id": "04abd9e9-9dfd-4b8d-ad01-fd36c45c5dfa",
   "metadata": {},
   "outputs": [],
   "source": [
    "lv = accessvis.plot_earth(texture='bluemarble', background=\"white\", vertical_exaggeration=20)\n",
    "lv.set_properties(diffuse=0.6, ambient=0.85, specular=0.25, shininess=0.03, light=[1,1,0.98,1], lightpos=[0,0,10000,1])\n",
    "lv.display(resolution=(600,600))"
   ]
  },
  {
   "cell_type": "markdown",
   "id": "de557f61-9ff1-4612-adc0-5e71c2f0ec0c",
   "metadata": {},
   "source": [
    "## lv.video() Arguments and Basic Usage\n",
    "\n",
    "To create a video in **accessvis**, the best approach is to use the `lv.video()` context manager. Below are the key arguments you can use:\n",
    "\n",
    "- **filename**: Specifies the path and name of the video file to save.\n",
    "- **quality**: Controls the quality of the video, with options ranging from 1 (low) to 3 (high), higher quality means less compression artifacts but a larger file\n",
    "- **resolution**: Sets the resolution of the saved video.\n",
    "- **framerate=30**: Defines the frames per second (FPS) for the video.\n",
    "- **params=\"autoplay\"**: If included, the video will be displayed within the notebook upon completion.\n",
    "- **width/height**: Defines the dimensions of the video player in the Jupyter notebook. This can be useful if the video player is too large for your screen.\n",
    "\n",
    "To generate a frame for the video, call `lv.render()` within the context manager. By adjusting parameters between each `lv.render()` call, your animation will be saved as a video.\n",
    "\n",
    "A few notes for users working in Jupyter notebooks:\n",
    "- The default save path may not match the folder where your notebook is located. It's best to specify a full path for the filename.\n",
    "- On NCI Gadi, the default folder is typically `~/` (your home directory), which might differ from your notebook's location.\n",
    "\n",
    "Now, let’s look at some examples to see how this works in action!"
   ]
  },
  {
   "cell_type": "markdown",
   "id": "1d862795-26bd-42da-9f58-4c9e9241c21a",
   "metadata": {},
   "source": [
    "## Example: Spin and Zoom\n",
    "\n",
    "In this example, we will demonstrate how to create a simple animation where the Earth spins while zooming in onto Canberra. We will start at the coordinates (0,0) and gradually rotate the Earth while zooming in. To achieve this, we will use `lv.window()` and `lv.camera()` to define the appropriate translations and rotations for the start and end points of the animation.\n",
    "\n",
    "### Step 1: Define Start and End Points\n",
    "\n",
    "Before creating the animation, we need to define the start and end points for the camera’s position, as well as the camera's field of view (zoom level). Here’s how to set it up:"
   ]
  },
  {
   "cell_type": "code",
   "execution_count": null,
   "id": "7cdfda77-ef34-41fd-ae3b-8c80eea42086",
   "metadata": {},
   "outputs": [],
   "source": [
    "num_steps = 150\n",
    "\n",
    "lat_start = 0\n",
    "lon_start = 0\n",
    "\n",
    "lat_end = -149\n",
    "lon_end = -35\n",
    "\n",
    "start_height = -20\n",
    "end_height = -7\n",
    "\n",
    "latitudes = np.linspace(lat_start, lat_end, num_steps)\n",
    "longitudes = np.linspace(lon_start, lon_end, num_steps)\n",
    "heights = np.linspace(start_height, end_height, num_steps)"
   ]
  },
  {
   "cell_type": "markdown",
   "id": "97589b29-64b5-421c-b9f5-38178a9cf020",
   "metadata": {},
   "source": [
    "### Step 2: Create the Video\n",
    "\n",
    "Now that we have defined our starting and ending points, let's create the video. We will:\n",
    "\n",
    "1. Use the `lv.video()` context manager to start recording the animation.\n",
    "2. Iterate through the latitude, longitude, and zoom values over the course of the animation.\n",
    "3. Update the camera view at each step.\n",
    "4. Pause on the last frame for a second to hold the final view.\n",
    "\n",
    "We will use `tqdm` to display a progress bar during the iteration, though this is optional.\n",
    "\n",
    "### Explanation:\n",
    "- **Context Manager**: `lv.video()` begins the process of recording the animation to a video file (`spin_and_zoom.mp4`).\n",
    "- **Camera Movement**: The camera is moved by interpolating between the start and end positions for both latitude and longitude, as well as zoom level.\n",
    "- **Progress Bar**: `tqdm` provides a progress bar to track the animation's progress (optional).\n",
    "- **Render**: `lv.render()` captures each frame of the animation.\n",
    "- **Pause**: A brief pause (`time.sleep(1)`) is added at the end to hold the last frame for a second.\n",
    "\n",
    "Remember, the video file will be saved in the working directory, which may not be the same as the notebook’s location. You may want to specify an absolute path for saving if necessary."
   ]
  },
  {
   "cell_type": "code",
   "execution_count": null,
   "id": "9fe84aa5-ff49-47bb-9d60-58c5b1deedd1",
   "metadata": {},
   "outputs": [],
   "source": [
    "filename = 'rotate_and_zoom.mp4'\n",
    "with lv.video(filename=filename, quality=1, resolution=(600,600)) as v:\n",
    "    for lat, lon, h in tqdm(zip(latitudes, longitudes, heights), total=num_steps):\n",
    "        lv.reset() # Note that we must reset as rotate in this context gives a relative rotation.\n",
    "        lv.rotate('y',lat)\n",
    "        lv.rotate('x',lon)\n",
    "        lv.translation(0, 0, h)\n",
    "        \n",
    "        lv.render()\n",
    "\n",
    "    for _ in range(30): #pause at the end of the video\n",
    "        lv.render()"
   ]
  },
  {
   "cell_type": "markdown",
   "id": "120836ab-25f3-49af-96c3-41daa15326ee",
   "metadata": {},
   "source": [
    "**ERROR? Animation Is Not Being Displayed:** Change your current working directory. \n",
    "`os.chdir('/g/data/<project>/<user>/ACCESS-Visualisation-Recipes')`\n",
    "or add extra arguments when making the notebook `--notebook-dir=/g/data/<project>/<user>/ACCESS-Visualisation-Recipes`"
   ]
  },
  {
   "cell_type": "markdown",
   "id": "5b97b4c9-b6c2-422e-ac1e-3987689d1448",
   "metadata": {},
   "source": [
    "Here's an improved version:\n",
    "\n",
    "---\n",
    "\n",
    "## Example: Annual Maximum Temperature by Year\n",
    "\n",
    "In this example, we will animate the **annual maximum temperature** for each point on Earth. The animation will span over several years, with the Earth rotating to show the changing temperatures across the globe.\n",
    "\n",
    "### Steps:\n",
    "1. We will download historical temperature data from the NCI THREDDS server.\n",
    "2. The dataset will be processed and animated over time, with the Earth rotating to display the maximum temperature for each year.\n",
    "3. Each frame will show the global temperature at a particular year, creating an animated time-lapse of temperature changes.\n",
    "\n",
    "### Data Source:\n",
    "The temperature data used in this example is historical surface temperature data, sourced from the **NCI THREDDS server**. The dataset covers global temperature data at the Earth's surface and is stored in the NetCDF format. The file is approximately **0.5GB** in size.\n",
    "\n",
    "> **Note**: If you're running this notebook outside of Gadi, the data will be automatically downloaded. However, if you are on Gadi, the dataset may already be available for access, and you can skip the download step.\n",
    "\n",
    "This dataset represents the **annual maximum temperature** across the globe, with each frame showing the maximum temperature for one year. By rotating the Earth, you’ll be able to see how the temperature changes around the world from year to year."
   ]
  },
  {
   "cell_type": "code",
   "execution_count": null,
   "id": "ff0c9bea-7517-4e3d-b4cc-87c251583e5e",
   "metadata": {},
   "outputs": [],
   "source": [
    "thredds_server = \"https://thredds.nci.org.au/thredds/fileServer/fs38/publications/\"\n",
    "gadi_server = '/g/data/fs38/publications/'\n",
    "\n",
    "#Temp at the surface\n",
    "ver = \"CMIP6/CMIP/CSIRO/ACCESS-ESM1-5/historical/\"\n",
    "fpath = \"r10i1p1f1/day/tas/gn/latest/tas_day_ACCESS-ESM1-5_historical_r10i1p1f1_gn_20000101-20141231.nc\"\n",
    "var = 'tas'\n",
    "url = f\"{thredds_server}{ver}{fpath}\"\n",
    "gadi_path = f\"{gadi_server}{ver}{fpath}\"\n",
    "\n",
    "\n",
    "if os.path.exists(gadi_path):\n",
    "    data_file = gadi_path\n",
    "else:\n",
    "    print('Could not load from gadi.')\n",
    "    data_file = os.path.abspath(os.path.split(url)[-1])\n",
    "\n",
    "    if not os.path.exists(data_file):\n",
    "        print(f'Downloading from {url}')\n",
    "        print(f'Saving to {data_file}')\n",
    "        urllib.request.urlretrieve(url, data_file)\n",
    "\n",
    "print(f'{data_file=}')"
   ]
  },
  {
   "cell_type": "markdown",
   "id": "ac2afb4c-f74b-4a1b-b936-7af495a3bd94",
   "metadata": {},
   "source": [
    "## Preparing the Data\n",
    "\n",
    "Before we can animate the temperature data, let's first prepare it. We will:\n",
    "\n",
    "1. **Read the Data**: Load the temperature data from the NetCDF file into an `xarray` object.\n",
    "2. **Extract the Maximum Temperature for Each Year**: Calculate the annual maximum temperature at each grid point.\n",
    "3. **Visual Check for the Year 2000**: Plot the data for the year 2000 to verify that the maximum temperature values are correctly extracted.\n",
    "\n",
    "This step ensures that the data is processed correctly before we proceed with the animation. By visualising the temperature data for the year 2000, we can confirm that the maximum temperature values are accurate."
   ]
  },
  {
   "cell_type": "code",
   "execution_count": null,
   "id": "7a6761f6-d60a-4a75-b998-3ffe02964e40",
   "metadata": {},
   "outputs": [],
   "source": [
    "ds = xr.open_dataset(data_file)\n",
    "\n",
    "yearly_maximum = ds['tas'].groupby('time.year').max(dim='time')\n",
    "\n",
    "yearly_maximum.sel(year=2000).plot()"
   ]
  },
  {
   "cell_type": "markdown",
   "id": "b9b616b0-7ec2-4ed2-8127-183dacc2fba0",
   "metadata": {},
   "source": [
    "## Preparing for the Animation\n",
    "\n",
    "To ensure a smooth and consistent animation, we need to make a few preparations:\n",
    "\n",
    "1. **Colour Consistency**: Find the maximum and minimum temperature values across the entire time range. This ensures that the Earth's surface is coloured consistently throughout the animation, regardless of the specific year being shown.\n",
    "2. **Camera Position**: Define the camera's movement. We will spin the Earth 360 degrees while keeping the camera focused on a specific location.\n",
    "3. **Add a Colourbar**: Include a colourbar to visually represent the temperature scale, helping to interpret the colours on the Earth during the animation.\n",
    "\n",
    "These steps will ensure that the animation is both visually appealing and informative."
   ]
  },
  {
   "cell_type": "code",
   "execution_count": null,
   "id": "1d1eb6ea-c7bd-4ab6-a13d-913b2c3cf520",
   "metadata": {},
   "outputs": [],
   "source": [
    "filename = 'rotate_and_time_max_temp.mp4'\n",
    "\n",
    "min_t = float(yearly_maximum.min())\n",
    "max_t = float(yearly_maximum.max())\n",
    "\n",
    "# Camera location\n",
    "y_360 = np.linspace(0, 360, num=90, endpoint=False) # num = 30fps * 3seconds = 90\n",
    "height = -20 # How zoomed the camera is.\n",
    "\n"
   ]
  },
  {
   "cell_type": "code",
   "execution_count": null,
   "id": "dee7bd98-afbe-4389-b267-55a619ec2750",
   "metadata": {},
   "outputs": [],
   "source": [
    "# !!!! If you run this multiple times, you get multiple colourbars.\n",
    "colourmap='coolwarm'\n",
    "cmap = lv.colourmap(colourmap, range=(min_t, max_t))\n",
    "cb = lv.colourbar()"
   ]
  },
  {
   "cell_type": "markdown",
   "id": "1ffc3af8-da07-4ed2-bfa3-7d1c13ae9ac0",
   "metadata": {},
   "source": [
    "## Animation Time!\n",
    "\n",
    "Now it's time to create the animation! In the following code, we:\n",
    "\n",
    "1. **Iterate through each year**: For each year in the dataset, we update the colour scheme and plot the corresponding data. Note that we need to flip the data for proper alignment.\n",
    "2. **Update the Title**: For each frame, we update the title to display the year being visualised.\n",
    "3. **Render the Image**: We spin the Earth 360 degrees, creating a dynamic effect as the globe rotates.\n",
    "\n",
    "While we use **tqdm** for a progress bar, it’s not required for functionality—it's just a visual aid to track progress.\n",
    "\n",
    "Let’s get started with the animation!"
   ]
  },
  {
   "cell_type": "code",
   "execution_count": null,
   "id": "86acc6c1-583f-4245-8949-3a75be3d4d50",
   "metadata": {},
   "outputs": [],
   "source": [
    "with lv.video(filename=filename, quality=2, resolution=(600,600)) as v:\n",
    "    for year in tqdm(yearly_maximum.year.values):\n",
    "        data = yearly_maximum.sel(year=year)\n",
    "        colours = accessvis.array_to_rgba(data, colourmap=colourmap, minimum=min_t, maximum=max_t, flip=True)\n",
    "        accessvis.update_earth_values(lv, dataMode=0, dataAlpha=1, data=colours)\n",
    "        \n",
    "        lv.title(f'Annual Maximum Temperature - {year}', fontsize=100)\n",
    "\n",
    "        for y in y_360:\n",
    "            lv.reset() # Note that we must reset as rotate in this context gives a relative rotation.\n",
    "            lv.rotate('y', y)\n",
    "            lv.translation(0, 0, height)\n",
    "            lv.render()"
   ]
  },
  {
   "cell_type": "markdown",
   "id": "18c24e02-d207-49b3-bda8-196b81d05e91",
   "metadata": {},
   "source": [
    "**ERROR? Animation Is Not Being Displayed:** Change your current working directory. \n",
    "`os.chdir('/g/data/<project>/<user>/ACCESS-Visualisation-Recipes')`\n",
    "or add extra arguments when making the notebook `--notebook-dir=/g/data/<project>/<user>/ACCESS-Visualisation-Recipes`"
   ]
  },
  {
   "cell_type": "code",
   "execution_count": null,
   "id": "6814e7d8-516a-4147-94f0-e978d38978ca",
   "metadata": {},
   "outputs": [],
   "source": []
  }
 ],
 "metadata": {
  "kernelspec": {
   "display_name": "Python 3 (ipykernel)",
   "language": "python",
   "name": "python3"
  },
  "language_info": {
   "codemirror_mode": {
    "name": "ipython",
    "version": 3
   },
   "file_extension": ".py",
   "mimetype": "text/x-python",
   "name": "python",
   "nbconvert_exporter": "python",
   "pygments_lexer": "ipython3",
   "version": "3.12.3"
  }
 },
 "nbformat": 4,
 "nbformat_minor": 5
}
