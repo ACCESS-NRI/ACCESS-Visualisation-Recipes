{
 "cells": [
  {
   "cell_type": "markdown",
   "id": "fa229497-9e27-48b6-80e8-bd92b196671f",
   "metadata": {},
   "source": [
    "## Preperatory calculations and processing\n",
    "\n",
    "- Calculate the area grid and save\n",
    "- Process all the data and calculate the hole areas per timestep and the max hole area per year, save as json"
   ]
  },
  {
   "cell_type": "markdown",
   "id": "cc10b43a-dd27-4ba5-a367-7215cebd55e9",
   "metadata": {},
   "source": [
    "# Get the data\n",
    "\n",
    "Need access to project on gadi or local copy, edit datadir below if not on gadi"
   ]
  },
  {
   "cell_type": "code",
   "execution_count": null,
   "id": "e5380882",
   "metadata": {},
   "outputs": [],
   "source": [
    "import glob, os\n",
    "#Assume running on gadi or with /g/data mounted, eg with sshfs\n",
    "datadir = '/g/data/p73/archive/non-CMIP/CMORised/CCMI2022/CSIRO-ARCCSS/ACCESS-CM2-Chem/refD2/r1i1p1f1/Aday/toz/gn/v20220822/'\n",
    "files = sorted(glob.glob(datadir + \"*.nc\"))"
   ]
  },
  {
   "cell_type": "code",
   "execution_count": null,
   "id": "698500a9-8191-4b03-84c5-264b85663f34",
   "metadata": {},
   "outputs": [],
   "source": [
    "for f in files:\n",
    "    print(os.path.basename(f))"
   ]
  },
  {
   "cell_type": "code",
   "execution_count": null,
   "id": "99cbadb5",
   "metadata": {},
   "outputs": [],
   "source": [
    "import numpy as np\n",
    "import datetime\n",
    "import math\n",
    "import pathlib\n",
    "import xarray as xr\n",
    "import matplotlib.pyplot as plt"
   ]
  },
  {
   "cell_type": "code",
   "execution_count": null,
   "id": "e006fcb3",
   "metadata": {},
   "outputs": [],
   "source": [
    "#ds = xr.open_dataset(datadir + fn)\n",
    "ds = xr.open_mfdataset(files, combine='nested', concat_dim=\"time\")"
   ]
  },
  {
   "cell_type": "code",
   "execution_count": null,
   "id": "09c67bfa",
   "metadata": {},
   "outputs": [],
   "source": [
    "ds"
   ]
  },
  {
   "cell_type": "markdown",
   "id": "24313ad6",
   "metadata": {},
   "source": [
    "### Calculate cell areas of the lat/lon grid"
   ]
  },
  {
   "cell_type": "code",
   "execution_count": null,
   "id": "33b9c7e0",
   "metadata": {},
   "outputs": [],
   "source": [
    "grid_nc = None\n",
    "if os.path.exists('earth_m2.nc'):\n",
    "    grid_nc = xr.open_dataset('earth_m2.nc')"
   ]
  },
  {
   "cell_type": "code",
   "execution_count": null,
   "id": "bf51d929",
   "metadata": {},
   "outputs": [],
   "source": [
    "\"\"\"\n",
    "This will create a global grid of the approximate size of each grid square.\n",
    "\"\"\"\n",
    "def gridsize(lat1,lon_inc):\n",
    "    #https://en.wikipedia.org/wiki/Haversine_formula\n",
    "    #https://stackoverflow.com/questions/639695/how-to-convert-latitude-or-longitude-to-meters/11172685#11172685\n",
    "    lon1=200\n",
    "    import math\n",
    "    lat2=lat1\n",
    "    lon2=lon1+lon_inc\n",
    "\n",
    "    R = 6378.137 # // Radius of earth in km\n",
    "    dLat = lat2 * np.pi / 180 - lat1 * np.pi / 180\n",
    "    dLon = lon2 * np.pi / 180 - lon1 * np.pi / 180\n",
    "    a = np.sin(dLat/2) * np.sin(dLat/2) + np.cos(lat1 * np.pi / 180) * np.cos(lat2 * np.pi / 180) * np.sin(dLon/2) * np.sin(dLon/2)\n",
    "    c = 2 * np.arctan2(np.sqrt(a), np.sqrt(1-a))\n",
    "    d = R * c\n",
    "    return d * 1000 #; // meters\n",
    "\n",
    "if grid_nc is None:\n",
    "    #boxlo,boxla=np.array(np.meshgrid(np.arange(-179.5,179.5,1),np.arange(-89.5,89.5,1)))\n",
    "    #boxlo,boxla=np.array(mgrid)\n",
    "\n",
    "    #Modified to use lat/lon grid from our data - first get min,max,inc\n",
    "    lats = (float(ds['lat'].min()), float(ds['lat'].max()), float(ds['lat'][1]- ds['lat'][0]))\n",
    "    print(lats, ds['lat'].shape)\n",
    "    lons = (float(ds['lon'].min()), float(ds['lon'].max()), float(ds['lon'][1]- ds['lon'][0]))\n",
    "    print(lons, ds['lon'].shape)\n",
    "    #Need to add a tiny amount to end of range\n",
    "    mgrid = np.meshgrid(np.arange(lons[0],lons[1]+0.0000001,lons[2]),\n",
    "                        np.arange(lats[0],lats[1]+0.0000001,lats[2]))\n",
    "    print(mgrid[0].shape)\n",
    "    boxlo,boxla=np.array(mgrid)\n",
    "    grid=gridsize(boxla,lons[2])\n",
    "    print(\"A:\",grid.shape)\n",
    "\n",
    "    grid_nc = xr.DataArray(grid,coords={'lat':boxla[:,1],'lon':boxlo[1,:]},dims=['lat','lon'])\n",
    "    #At the equator for longitude and for latitude anywhere, the following approximations are valid:\n",
    "    #1deg ~= 111km = 111000m\n",
    "    lat_size=110567 * lats[2] #in m - size of 1 degree\n",
    "    grid_nc['m2'] = grid_nc * lat_size\n",
    "    grid_nc = grid_nc['m2']\n",
    "    grid_nc.to_netcdf('earth_m2.nc')"
   ]
  },
  {
   "cell_type": "code",
   "execution_count": null,
   "id": "1cb74ac2",
   "metadata": {},
   "outputs": [],
   "source": [
    "#plt.pcolormesh(boxlo[1,:],boxla[:,1],grid_nc)\n",
    "plt.pcolormesh(grid_nc['lon'],grid_nc['lat'],grid_nc['m2'])\n",
    "plt.colorbar()\n",
    "plt.show()"
   ]
  },
  {
   "cell_type": "code",
   "execution_count": null,
   "id": "1e6f3be4",
   "metadata": {},
   "outputs": [],
   "source": [
    "grid_nc"
   ]
  },
  {
   "cell_type": "code",
   "execution_count": null,
   "id": "36ac0a47",
   "metadata": {},
   "outputs": [],
   "source": [
    "#Sanity check\n",
    "#Earth's surface area: 510.1 million km²\n",
    "earth_sa = 510.1\n",
    "m2 = np.array(grid_nc['m2']).sum()\n",
    "km2 = 1e-6 * m2\n",
    "Mkm2 = 1e-6 * km2\n",
    "error = abs(earth_sa - Mkm2)\n",
    "print(f\"{m2} m\\n{km2} km²\\n{Mkm2} million km²\\nError {round(error / Mkm2 * 100, 2)}%\")\n",
    "#Check within ~1% tolerance\n",
    "assert(error < (earth_sa * 0.01))"
   ]
  },
  {
   "cell_type": "markdown",
   "id": "909157f0",
   "metadata": {},
   "source": [
    "## Test threshold plot"
   ]
  },
  {
   "cell_type": "code",
   "execution_count": null,
   "id": "9de94240-3e0b-4dc4-a948-06026442bd5c",
   "metadata": {},
   "outputs": [],
   "source": [
    "ts = 21481 #24/10/2018\n",
    "#ts = 16348 #October 4, 2004\n",
    "t = ds['time'][ts]\n",
    "print(t)"
   ]
  },
  {
   "cell_type": "code",
   "execution_count": null,
   "id": "b3fda587",
   "metadata": {},
   "outputs": [],
   "source": [
    "ttoz = np.array(ds['toz'][ts,:,:])\n",
    "\n",
    "threshold = 220 * 1e-5 #220 DU threshold converted to M\n",
    "print(threshold)\n",
    "print(ttoz.min(), ttoz.max())\n",
    "print(ttoz.shape)\n",
    "below = ttoz < threshold\n",
    "print(below.sum()) #sum() is count for boolean array\n",
    "ttoz[ttoz < threshold] = 0.0\n",
    "ttoz[ttoz >= threshold] = 1.0\n",
    "\n",
    "fig = plt.figure(frameon=False)\n",
    "fig.set_size_inches(4,3)\n",
    "\n",
    "ax = plt.Axes(fig, [0., 0., 1., 1.])\n",
    "#ax.set_axis_off()\n",
    "fig.add_axes(ax)\n",
    "\n",
    "ax.imshow(ttoz, aspect='auto');"
   ]
  },
  {
   "cell_type": "code",
   "execution_count": null,
   "id": "e0e47e65-6efc-4bcb-8e14-a8d098ab1dd2",
   "metadata": {},
   "outputs": [],
   "source": [
    "ttoz.shape"
   ]
  },
  {
   "cell_type": "markdown",
   "id": "23e656f9-d809-460f-8aad-98d72e668909",
   "metadata": {},
   "source": [
    "## Calibration plot\n",
    "\n",
    "Ensure our lat/lon data is aligned"
   ]
  },
  {
   "cell_type": "code",
   "execution_count": null,
   "id": "a0afdec3-0cc5-4f6d-ac6d-55fa714a9d80",
   "metadata": {},
   "outputs": [],
   "source": [
    "latb = np.array(ds['lat_bnds'][ts,:,0])\n",
    "lonb = np.array(ds['lon_bnds'][ts,:,0])\n",
    "\n",
    "lgrid = np.array(np.meshgrid(lonb, latb))\n",
    "lgrid.shape\n",
    "\n",
    "#sumgrid = lgrid[0] + lgrid[1]\n",
    "#sumgrid.shape\n",
    "longrid = lgrid[0]\n",
    "latgrid = lgrid[1]"
   ]
  },
  {
   "cell_type": "code",
   "execution_count": null,
   "id": "ad8d580e-c11b-473f-8f60-fba45eb90ba3",
   "metadata": {},
   "outputs": [],
   "source": [
    "fig = plt.figure(frameon=False)\n",
    "fig.set_size_inches(4,3)\n",
    "\n",
    "ax = plt.Axes(fig, [0., 0., 1., 1.])\n",
    "#ax.set_axis_off()\n",
    "fig.add_axes(ax)\n",
    "\n",
    "ax.imshow(latgrid, aspect='auto');"
   ]
  },
  {
   "cell_type": "code",
   "execution_count": null,
   "id": "360c2447-762b-4dd4-a960-ab0a551c9ffa",
   "metadata": {},
   "outputs": [],
   "source": [
    "fig = plt.figure(frameon=False)\n",
    "fig.set_size_inches(4,3)\n",
    "\n",
    "ax = plt.Axes(fig, [0., 0., 1., 1.])\n",
    "#ax.set_axis_off()\n",
    "fig.add_axes(ax)\n",
    "\n",
    "ax.imshow(longrid, aspect='auto');"
   ]
  },
  {
   "cell_type": "markdown",
   "id": "b7c6e2e0",
   "metadata": {},
   "source": [
    "### Use the area grid to get the total area below threshold"
   ]
  },
  {
   "cell_type": "code",
   "execution_count": null,
   "id": "bfcaf215",
   "metadata": {},
   "outputs": [],
   "source": [
    "def get_hole(ts, threshold=220*1e-5):\n",
    "    ttoz = np.array(ds['toz'][ts,:,:])\n",
    "    #print(threshold)\n",
    "    #print(ttoz.min(), ttoz.max())\n",
    "    #print(ttoz.shape)\n",
    "    below = ttoz < threshold\n",
    "    hole_area = np.array(grid_nc['m2'])[below]\n",
    "    m2 = hole_area.sum()\n",
    "    km2 = 1e-6 * m2\n",
    "    Mkm2 = 1e-6 * km2\n",
    "    #print(hole_area.shape, m2, km2, Mkm2)\n",
    "    return Mkm2\n",
    "print(get_hole(ts), \"million km²\")\n"
   ]
  },
  {
   "cell_type": "markdown",
   "id": "aaf84a75",
   "metadata": {},
   "source": [
    "### Now do this for each timestep, storing the max size per year"
   ]
  },
  {
   "cell_type": "code",
   "execution_count": null,
   "id": "e0ec6444-3271-44d4-958b-fcaf30139de1",
   "metadata": {},
   "outputs": [],
   "source": [
    "# Takes about 30 min to run, could optimise but only needs to be run once so..."
   ]
  },
  {
   "cell_type": "code",
   "execution_count": null,
   "id": "66e6d755",
   "metadata": {
    "scrolled": true
   },
   "outputs": [],
   "source": [
    "ds['time']\n",
    "dates = np.array(ds['time'])\n",
    "years = dates.astype('datetime64[Y]').astype(int) + 1970\n",
    "months = dates.astype('datetime64[M]').astype(int) % 12 + 1\n",
    "days = (dates.astype('datetime64[D]') - dates.astype('datetime64[M]')).astype(int) + 1\n",
    "\n",
    "import json\n",
    "import os\n",
    "cfn = \"year_max.json\"\n",
    "afn = \"all.json\"\n",
    "alldata = []\n",
    "if not os.path.exists(cfn):\n",
    "    year_max = {}\n",
    "    month_max = {}\n",
    "    print('Calculating...')\n",
    "    for i in range(len(dates)):\n",
    "        #print(years[i], months[i], days[i])\n",
    "        Mkm2 = get_hole(i)\n",
    "        #print(hole_area.shape, m2, km2, Mkm2)\n",
    "        year = str(years[i])\n",
    "        if not year in year_max or year_max[year] < Mkm2:\n",
    "            year_max[year] = Mkm2\n",
    "        alldata.append(Mkm2)\n",
    "    print('Saving...')\n",
    "    #print(year_max)\n",
    "    with open(cfn, \"w\") as outfile:\n",
    "        json.dump(year_max, outfile)\n",
    "    with open(afn, \"w\") as outfile:\n",
    "        json.dump(alldata, outfile)        \n",
    "else:\n",
    "    with open(cfn, \"r\") as infile:\n",
    "        year_max = json.load(infile)\n",
    "    with open(afn, \"r\") as infile:\n",
    "        alldata = json.load(infile)\n"
   ]
  },
  {
   "cell_type": "code",
   "execution_count": null,
   "id": "fee61c94",
   "metadata": {},
   "outputs": [],
   "source": [
    "import matplotlib.pyplot as plt\n",
    "x = np.linspace(0, len(alldata)-1, num=len(alldata), endpoint=True)\n",
    "#print(len(xnew))\n",
    "#print(len(alldata))\n",
    "plt.scatter(x, alldata);"
   ]
  },
  {
   "cell_type": "code",
   "execution_count": null,
   "id": "84a5e2f0",
   "metadata": {},
   "outputs": [],
   "source": [
    "#Get the axis data\n",
    "\n",
    "#Years, sorted and duplicates removed\n",
    "x = np.array(sorted(list(set(years))))\n",
    "#Max hole area per year\n",
    "y = np.array(list(year_max.values()))\n",
    "\n",
    "#print(x, y)\n",
    "#plt.plot(x,y)\n",
    "#plt.show()\n",
    "\n",
    "#create scatterplot\n",
    "plt.bar(x, y)\n",
    "#plt.scatter(x, y)"
   ]
  },
  {
   "cell_type": "markdown",
   "id": "1bc13932",
   "metadata": {},
   "source": [
    "https://www.datatechnotes.com/2021/11/scattered-data-spline-fitting-example.html"
   ]
  },
  {
   "cell_type": "code",
   "execution_count": null,
   "id": "7bed4cbd",
   "metadata": {},
   "outputs": [],
   "source": [
    "from scipy import interpolate\n",
    "import matplotlib.pyplot as plt\n",
    "import numpy as np "
   ]
  },
  {
   "cell_type": "markdown",
   "id": "038f0f81",
   "metadata": {},
   "source": [
    " Spline curve fitting\n",
    " \n",
    "    To construct a smoother spline fit, we need to specify the number of knots for the target data. Knots are joints of polynomial segments.\n",
    "    Based on knots number, we'll determine the new x data vector by using the 'quantile' function. "
   ]
  },
  {
   "cell_type": "code",
   "execution_count": null,
   "id": "036655a4",
   "metadata": {},
   "outputs": [],
   "source": [
    "knot_numbers = 2 #Higher numbers fit the data closer, but look bad at the ends\n",
    "x_new = np.linspace(0, 1, knot_numbers+2)[1:-1]\n",
    "q_knots = np.quantile(x, x_new) "
   ]
  },
  {
   "cell_type": "markdown",
   "id": "d5e0b50d",
   "metadata": {},
   "source": [
    "    Next, we'll find out the required coefficient values by using 'splrep'. The 'splrep' function returns t, c, k tuple containing the vector of knots, the B-spline coefficients, and the degree of the spline.\n",
    "\n",
    "    After taking the values, we'll use BSpline class to construct spline fit on x vector data."
   ]
  },
  {
   "cell_type": "code",
   "execution_count": null,
   "id": "b55b8cf5",
   "metadata": {},
   "outputs": [],
   "source": [
    "t,c,k = interpolate.splrep(x, y, t=q_knots, s=1)\n",
    "yfit = interpolate.BSpline(t,c,k)(x) "
   ]
  },
  {
   "cell_type": "markdown",
   "id": "ab7809a0",
   "metadata": {},
   "source": [
    "    Finally, we can visualize the constructed spline curve on a graph."
   ]
  },
  {
   "cell_type": "code",
   "execution_count": null,
   "id": "c770134c",
   "metadata": {},
   "outputs": [],
   "source": [
    "# Enable interactive plot\n",
    "!pip install ipympl\n",
    "#%matplotlib notebook\n",
    "%matplotlib widget"
   ]
  },
  {
   "cell_type": "code",
   "execution_count": null,
   "id": "86059987",
   "metadata": {},
   "outputs": [],
   "source": [
    "#print(plt.style.available)\n",
    "plt.style.use(\"dark_background\")"
   ]
  },
  {
   "cell_type": "code",
   "execution_count": null,
   "id": "1d6a2ce0",
   "metadata": {},
   "outputs": [],
   "source": [
    "from PIL import Image\n",
    "#size = 720*16//9, 720\n",
    "size = 640, 480\n",
    "frame = np.zeros(dtype='uint8', shape=(size[1], size[0], 3))"
   ]
  },
  {
   "cell_type": "code",
   "execution_count": null,
   "id": "380acf15",
   "metadata": {},
   "outputs": [],
   "source": [
    "# create a figure with axes\n",
    "fig, ax = plt.subplots()\n",
    "canvas = fig.canvas\n",
    "\n",
    "#plt.figure(figsize=(12, 6))\n",
    "#plt.title(\"Ozone hole maximum size\")\n",
    "plt.plot(x, y, '.', c=\"grey\", label=\"original\")\n",
    "plt.plot(x, yfit, '-', c=\"cyan\", label=\"spline fit\")\n",
    "#plt.legend(loc='best', fancybox=True, shadow=True)\n",
    "#plt.grid()\n",
    "plt.xlabel('Year')\n",
    "plt.ylabel('Area (million km²)')\n",
    "#plt.show()\n",
    "\n",
    "# Hide the right and top spines\n",
    "ax.spines[['right', 'top']].set_visible(False)\n",
    "#Remove axis margins\n",
    "ax.margins(x=0)\n",
    "ax.margins(y=0)\n",
    "#Hide intermediate ticks\n",
    "xlabels = ax.xaxis.get_ticklabels()\n",
    "for xl in xlabels[1:-1]:\n",
    "    xl.set_visible(False)\n",
    "ylabels = ax.yaxis.get_ticklabels()\n",
    "for yl in ylabels[0:-2]:\n",
    "    yl.set_visible(False)\n",
    "plt.ylim([0, 20])\n",
    "\n",
    "#ax = plt.gca()\n",
    "# create a point in the axes\n",
    "point, = ax.plot(years[0],y[0], marker=\"o\", color='yellow', markersize=10)\n",
    "point0, = ax.plot(years[0],y[0], marker=\"o\", color='white', markersize=5)\n",
    "#bar, = ax.bar(1960,y[0], color='darkgrey')\n",
    "\n",
    "# Updating function, to be repeatedly called by the animation\n",
    "from matplotlib.animation import FuncAnimation\n",
    "X = None\n",
    "def update(ts):\n",
    "    global X\n",
    "    # set point's coordinates\n",
    "    point0.set_data([1960+ts],[y[ts]])\n",
    "    point.set_data([1960+ts],[yfit[ts]])\n",
    "    return point,point0\n",
    "\n",
    "# create animation with 10ms interval, which is repeated,\n",
    "# provide the timestep index as a parameter\n",
    "ani = FuncAnimation(fig, update, interval=10, blit=True, repeat=True,\n",
    "                    frames=range(0,len(y)))\n",
    "\n",
    "plt.show();"
   ]
  },
  {
   "cell_type": "code",
   "execution_count": null,
   "id": "dff03942",
   "metadata": {},
   "outputs": [],
   "source": []
  }
 ],
 "metadata": {
  "kernelspec": {
   "display_name": "Python 3 (ipykernel)",
   "language": "python",
   "name": "python3"
  },
  "language_info": {
   "codemirror_mode": {
    "name": "ipython",
    "version": 3
   },
   "file_extension": ".py",
   "mimetype": "text/x-python",
   "name": "python",
   "nbconvert_exporter": "python",
   "pygments_lexer": "ipython3",
   "version": "3.10.12"
  }
 },
 "nbformat": 4,
 "nbformat_minor": 5
}
