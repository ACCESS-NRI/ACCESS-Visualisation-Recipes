{
 "cells": [
  {
   "cell_type": "markdown",
   "id": "94211110-182a-4bbb-a141-bdddd6536868",
   "metadata": {},
   "source": [
    "# Ozone\n",
    "\n",
    "## Final renderings and combined plots\n",
    "\n",
    "Examples for comparison\n",
    "\n",
    "https://ozonewatch.gsfc.nasa.gov/facts/hole_SH.html\n",
    "\n",
    "https://www.nasa.gov/feature/goddard/2019/2019-ozone-hole-is-the-smallest-on-record-since-its-discovery"
   ]
  },
  {
   "cell_type": "code",
   "execution_count": null,
   "id": "7bb14477-f809-48e0-aa24-53b3b92cca42",
   "metadata": {},
   "outputs": [],
   "source": [
    "#SETTINGS\n",
    "background = 'black' #'#555555'\n",
    "\n",
    "#Earth model version tag\n",
    "tag = '_flat'\n",
    "#tag = '_flat_low' #Low res version\n",
    "#(No need for high res topo for this visualisation)\n",
    "\n",
    "size = (1920,1080) #Final render in 1080p\n",
    "\n",
    "rotation = True"
   ]
  },
  {
   "cell_type": "code",
   "execution_count": null,
   "id": "99cbadb5",
   "metadata": {},
   "outputs": [],
   "source": [
    "try:\n",
    "    import sys\n",
    "    sys.path.insert(0, '../..') #for accessvis module\n",
    "    import accessvis\n",
    "    import numpy as np\n",
    "    import datetime\n",
    "    import math\n",
    "    import pathlib\n",
    "    import xarray as xr\n",
    "    import matplotlib.pyplot as plt\n",
    "    from matplotlib import cm\n",
    "    import matplotlib\n",
    "    import os\n",
    "    import glob\n",
    "    import json\n",
    "    from scipy import interpolate\n",
    "    from PIL import Image\n",
    "    import matplotlib.dates as mdates\n",
    "    from tqdm.notebook import tqdm\n",
    "    import lavavu   \n",
    "except (ImportError) as e:\n",
    "    print('ImportError: Installing dependencies, please run this cell again...')\n",
    "    !pip install xarray scipy h5netcdf dask netCDF4 pillow lavavu tqdm ipympl\n",
    "    #warning: ipympl requires jupyter restart\n",
    "    raise('Installed dependencies, please run this cell again')"
   ]
  },
  {
   "cell_type": "markdown",
   "id": "b4c740da-6e02-4d5d-aa75-d538d3034f3b",
   "metadata": {},
   "source": [
    "# Get the data\n",
    "\n",
    "Need access to project on gadi or local copy, edit datadir below if not on gadi"
   ]
  },
  {
   "cell_type": "code",
   "execution_count": null,
   "id": "e5380882",
   "metadata": {},
   "outputs": [],
   "source": [
    "#Assume running on gadi or with /g/data mounted, eg with sshfs\n",
    "datadir = '/g/data/p73/archive/non-CMIP/CMORised/CCMI2022/CSIRO-ARCCSS/ACCESS-CM2-Chem/refD2/r1i1p1f1/Aday/toz/gn/v20220822/'\n",
    "files = sorted(glob.glob(datadir + \"*.nc\"))"
   ]
  },
  {
   "cell_type": "code",
   "execution_count": null,
   "id": "076a8ae1-97c3-4891-8990-8550edaf208d",
   "metadata": {},
   "outputs": [],
   "source": [
    "for f in files:\n",
    "    print(f)"
   ]
  },
  {
   "cell_type": "code",
   "execution_count": null,
   "id": "e006fcb3",
   "metadata": {},
   "outputs": [],
   "source": [
    "ds = xr.open_mfdataset(files, combine='nested', concat_dim=\"time\")"
   ]
  },
  {
   "cell_type": "code",
   "execution_count": null,
   "id": "09c67bfa",
   "metadata": {},
   "outputs": [],
   "source": [
    "ds"
   ]
  },
  {
   "cell_type": "markdown",
   "id": "2a148dd0",
   "metadata": {},
   "source": [
    "### Load saved 3d model\n",
    "\n",
    "Use a saved earth model and sphere model for the ozone plot"
   ]
  },
  {
   "cell_type": "code",
   "execution_count": null,
   "id": "3afba2cc-56df-4c78-9110-0c7d674f6265",
   "metadata": {},
   "outputs": [],
   "source": [
    "#Create 3d viewer\n",
    "lv = lavavu.Viewer(axis=False, border=0, verbose=0, background=background)"
   ]
  },
  {
   "cell_type": "code",
   "execution_count": null,
   "id": "416719d4",
   "metadata": {},
   "outputs": [],
   "source": [
    "#Main viewport with space to right for 2d plots\n",
    "lv.viewport(0, 0, 0.65, 1.0, replace=True, title=\"-Main\")\n",
    "\n",
    "#cb = lv.colourbar(ticks=1, tickvalues=[220], format=\"%.5g DU\", align='left', offset=40)\n",
    "\n",
    "#lv[\"fontscale\"] = 0.65\n",
    "\n",
    "#Pre-saved topo data\n",
    "with np.load('../../Earth/Topo' + tag + '.npz') as ldata:\n",
    "    print(ldata)\n",
    "    \n",
    "    #Visualise\n",
    "    shaders = ['triShader_test.vert', 'triShader_test.frag']\n",
    "    #shaders = ['triShader_test.vert', 'triShader_grey.frag']\n",
    "    for f in ['F', 'R', 'B', 'L', 'U', 'D']:\n",
    "        verts = ldata[f]\n",
    "        q = lv.quads(name=f, vertices=verts, texture='../../Earth/' + f + tag + '.png',\n",
    "                     fliptexture=False, flip=f in ['F', 'L', 'D'], #Reverse facing\n",
    "                     renderer=\"simpletriangles\", opaque=True, shaders=shaders)\n",
    "        print(q['texture'])\n",
    "        q['saturation'] = 0.0 #[0,2]\n",
    "        q['contrast'] = 0.8 #0.75  #[0,2]\n",
    "        q['brightness'] = 0.0  #[-1,1]\n"
   ]
  },
  {
   "cell_type": "code",
   "execution_count": null,
   "id": "1c43a0f1-a6ab-4e69-a7d1-fc48f6fd833d",
   "metadata": {},
   "outputs": [],
   "source": [
    "#Load the stratosphere mesh\n",
    "#(requires running SphereMesh.ipynb if file not found)\n",
    "with np.load('../../Earth/Sphere_6.4729.npz') as sdata:\n",
    "    #tris0 = lv.objects['strato']\n",
    "    lv.addstep(0) #Add a timestep or things don't work on load\n",
    "    tris0 = lv.triangles(\"strato\", **sdata) #vertices=sdata['vertices'], normals=sdata['normals'])\n",
    "    \n",
    "    #tris0['rotate'] = [0,-90,0] #This rotates the sphere to align with our [0,360] longitude texture\n",
    "    tris0['texture'] = 'blank.png' #Need an initial texture or texcoords will not be generated\n",
    "    tris0['renderer'] = 'sortedtriangles'\n",
    "    lv['cullface'] = False #Must disable this for the ozone plot\n",
    "    tris0[\"rotate\"] = [0,0,0]\n",
    "    #tris0[\"alpha\"] = 1.0 #0.6\n",
    "    \n",
    "    if rotation:\n",
    "        #Try some different shaders with the 3d rotating model\n",
    "        tris0['shaders'] = ['triShader_oz.vert', 'triShader_oz2.frag']\n",
    "    else:\n",
    "        tris0['shaders'] = ['triShader_oz.vert', 'triShader_oz.frag']\n",
    "    \n",
    "    #WITH TITLE\n",
    "    cb = tris0.colourbar(ticks=1, tickvalues=[220], format=\"%.5g DU\", align='left', offset=16, size=[0.4,16], position=-40, outline=0) #For 640x480 render\n",
    "    #NO TITLE\n",
    "    #cb = tris0.colourbar(ticks=1, tickvalues=[220], format=\"%.5g DU\", align='left', offset=16, size=[0.4,16], position=-16, outline=0)\n"
   ]
  },
  {
   "cell_type": "code",
   "execution_count": null,
   "id": "ddbde536-60a8-412e-a893-0d6925e1d43a",
   "metadata": {},
   "outputs": [],
   "source": [
    "#2nd viewport for 2d plots to right\n",
    "lv.viewport(0.65, 0, 0.35, 1.0, title=\"Ozone hole area (millions of square km)\")\n",
    "\n",
    "overlay = None\n",
    "\n",
    "def render_with_overlay(overlay_image, size=[1.0, 1.0], offset=[0.0, 0.0]):\n",
    "    global overlay\n",
    "    if not overlay:\n",
    "        #Create the 2d overlay plot - problems updating texture here unless this is the last object added\n",
    "        overlay = lv.screen(shaders=['screen.vert', 'screen.frag'], vertices=[[0,0,0]],\n",
    "                            uniforms={\"size\" : size, \"offset\" : offset})\n",
    "\n",
    "    #Render the main 3d image\n",
    "    overlay.texture(overlay_image)\n",
    "\n",
    "    #Plot offset in full screen\n",
    "    #t = lv['title']\n",
    "    #lv['title'] = ''\n",
    "    overlay['uniforms'] = {\"size\" : size, \"offset\" : offset}\n",
    "    lv.render()\n",
    "    #lv['title'] = t\n",
    "\n",
    "#render_with_overlay('blank.png', size=[0.3, 0.3])\n",
    "render_with_overlay('blank.png')"
   ]
  },
  {
   "cell_type": "code",
   "execution_count": null,
   "id": "5a9965c4-66c6-4f9f-b8ae-808f418fe40d",
   "metadata": {},
   "outputs": [],
   "source": [
    "\n",
    "#Lighting\n",
    "lv['ambient'] = 0.3 #0.4\n",
    "lv['diffuse'] = 1.0 #0.65\n",
    "\n",
    "#Camera\n",
    "#lv.resize(size[0] // 2, size[1] // 2)\n",
    "lv.view(0) #Select first viewport\n",
    "lv.resize(size[0], size[1])\n",
    "lv.translation(0.157, -0.359, -17.961)\n",
    "lv.rotation(-90.0, 0.0, 0.0)\n"
   ]
  },
  {
   "cell_type": "code",
   "execution_count": null,
   "id": "e45ca0d6-360b-4d88-abdc-b7dfa210bb6d",
   "metadata": {},
   "outputs": [],
   "source": [
    "#lv.interactive() #Show window (linux/windows hosts only)\n",
    "lv.window()"
   ]
  },
  {
   "cell_type": "code",
   "execution_count": null,
   "id": "2c56ac59-11b8-4a02-818a-c9a59475bbea",
   "metadata": {},
   "outputs": [],
   "source": []
  },
  {
   "cell_type": "code",
   "execution_count": null,
   "id": "8266a71d-1507-42a6-bbbe-574649c2c021",
   "metadata": {},
   "outputs": [],
   "source": [
    "lat = np.array(ds['lat'])\n",
    "lon = np.array(ds['lon'])\n",
    "times = np.array(ds['time'])\n",
    "startdate = datetime.datetime.strptime('1960-01-01', \"%Y-%m-%d\").date()"
   ]
  },
  {
   "cell_type": "code",
   "execution_count": null,
   "id": "be9fa8c8-e4e7-4148-ac1f-16685413336b",
   "metadata": {},
   "outputs": [],
   "source": [
    "############################# CALIBRATION - LONGITUDE TEXTURE\n",
    "#Create a calibration image to show longitude mapping of texture matches expectations\n",
    "\n",
    "#Get todays timestep data to work on\n",
    "df = ds.sel(time=datetime.datetime.now(), method='nearest')\n",
    "\n",
    "#We can change the image to [-180,180] as follows,\n",
    "#but it is very slow to run this on all the full dataset\n",
    "#instead we will use the rotation property to shift the texture mapping for [0,360]\n",
    "#a calibration image will show if this is working correctly\n",
    "df.coords['lon'] = (df.coords['lon'] + 180) % 360 - 180\n",
    "df = df.sortby(df.lon)\n",
    "#df"
   ]
  },
  {
   "cell_type": "code",
   "execution_count": null,
   "id": "acd70574-4991-4892-baa9-140430885fa7",
   "metadata": {},
   "outputs": [],
   "source": [
    "latb = np.array(df['lat_bnds'][:,0])\n",
    "lonb = np.array(df['lon_bnds'][:,0])\n",
    "\n",
    "lgrid = np.array(np.meshgrid(lonb, latb))\n",
    "lgrid.shape\n",
    "\n",
    "#sumgrid = lgrid[0] + lgrid[1]\n",
    "#sumgrid.shape\n",
    "longrid = lgrid[0]\n",
    "\n",
    "mmin = longrid.min()\n",
    "mmax = longrid.max()\n",
    "print(mmin, mmax)\n",
    "\n",
    "fig = plt.figure(frameon=False)\n",
    "fig.set_size_inches(4,3)\n",
    "#To make the content fill the whole figure\n",
    "ax = plt.Axes(fig, [0., 0., 1., 1.])\n",
    "ax.set_axis_off()\n",
    "fig.add_axes(ax)\n",
    "ax.imshow(longrid, aspect='auto')\n",
    "#fig.savefig('longitude.png')\n",
    "\n",
    "toz = longrid #########################\n",
    "#Normalise\n",
    "image = (toz-mmin)/(mmax-mmin)\n",
    "#Clip out of [0,1] range - in case defined range is not the global minima/maxima\n",
    "image = np.clip(image, 0, 1)\n",
    "#print(image.shape)\n",
    "\n",
    "#Apply colourmap\n",
    "#tex = cm.viridis(image)\n",
    "tex = cm.magma(image)\n",
    "#print(tex)\n",
    "\n",
    "#print(\"Range of timestep:\", toz.min(),toz.max())\n",
    "\n",
    "#print(tex.shape)\n",
    "#Add alpha channel\n",
    "tex_a = np.dstack((tex[::,::,0:3], image))\n",
    "\n",
    "#Show the calibration plot on the globe model\n",
    "#tris0.texture(tex_a)\n",
    "#lv.translation(-3.241, -0.225, -17.858)\n",
    "#lv.rotation(-107.232, -3.084, 166.483)\n",
    "#lv.interactive()\n",
    "##########################################################################"
   ]
  },
  {
   "cell_type": "code",
   "execution_count": null,
   "id": "823960a5-5abf-4ab7-ae36-580615b762bb",
   "metadata": {},
   "outputs": [],
   "source": [
    "#COLOURMAP SETUP\n",
    "lv1 = lavavu.Viewer(border=False, axis=False, background=\"gray90\", quality=3, fontscale=2)\n",
    "o = lv1.colourbar()\n",
    "\n",
    "cm0 = o.colourmap('twilight', reverse=True)\n",
    "lv1.display(resolution=[640,50], transparent=True)\n",
    "\n",
    "colours = [c[1] for c in cm0.tolist()]\n",
    "\n",
    "#Remove first 32 colours to strip white from low end\n",
    "colours = colours[32:]\n",
    "print(len(colours))\n",
    "\n",
    "colours2 = []\n",
    "\n",
    "DIV=len(colours)//3\n",
    "print(DIV)\n",
    "#TWEAKS COLOURMAP TO FIX 220DU AS DIVERGING POINT\n",
    "for i,c in enumerate(colours):\n",
    "    #Skip every 2nd for first 1/3 of range\n",
    "    if i < DIV and i % 2 == 0:\n",
    "        continue\n",
    "    colours2.append(c)\n",
    "\n",
    "for i,c in enumerate(colours2):\n",
    "    if i < 148:\n",
    "        c[0] = min(int(c[0]*1.5), 255)\n",
    "\n",
    "colours = colours2\n",
    "\n",
    "lv1 = lavavu.Viewer(border=False, axis=False, background=\"gray90\", quality=3, fontscale=2)\n",
    "o = lv1.colourbar(ticks=1, tickvalues=[220], format=\"%.5g DU\", align='left', offset=16, size=[0.9,16], outline=0) #, fontcolour='white')\n",
    "cm0 = o.colourmap(colours, range=[0, 600])\n",
    "lv1.display(resolution=[160,250], transparent=True)"
   ]
  },
  {
   "cell_type": "code",
   "execution_count": null,
   "id": "960a1c50",
   "metadata": {},
   "outputs": [],
   "source": [
    "#Just use a fixed range, convert DU to M\n",
    "mmin = 0 * 1e-5\n",
    "mmax = 600 * 1e-5\n",
    "#Setup centre value to be 220DU\n",
    "#mmin = 0\n",
    "#mmax = 440 * 1e-5\n",
    "\n",
    "#Threshold : 220 DU\n",
    "#Dobson Units : 1m = 1e5 DU\n",
    "#Our scale is in metres\n",
    "threshold = 220 * 1e-5\n",
    "print(\"Threshold of 220 DU in M: \",threshold)\n",
    "print(\"Range of data: \",mmin,mmax)\n",
    "\n",
    "#Show colourbar with threshold marked in DUs\n",
    "#cmap = lv.colourmap('viridis', range=(mmin * 1e5, mmax * 1e5))\n",
    "#cmap = lv.colourmap('magma', range=(mmin * 1e5, mmax * 1e5))\n",
    "clist = []\n",
    "for i,c in enumerate(colours):\n",
    "    pos = i/(len(colours)-1)\n",
    "    clist.append((pos, c))\n",
    "\n",
    "cmapname = None\n",
    "#cmapname = 'hsv_r'\n",
    "\n",
    "if cmapname:\n",
    "    cmap = tris0.colourmap(cmapname, range=(mmin * 1e5, mmax * 1e5))\n",
    "else:\n",
    "    cmap = tris0.colourmap(clist, range=(mmin * 1e5, mmax * 1e5))\n",
    "\n",
    "\n",
    "plot_inc=1 #10\n",
    "R = [0,0,0]\n",
    "if cmapname:\n",
    "    mcm = getattr(cm, cmapname)\n",
    "else:\n",
    "    mcm = matplotlib.colors.LinearSegmentedColormap.from_list('custom', np.array(colours)[::,0:3] / 255.0) #, N=len(colours))\n",
    "\n",
    "#print(mcm)\n",
    "def get_frame_3d(t):\n",
    "    global tex\n",
    "    #for g in globe_objs:\n",
    "    #    lv.objects[g].rotation = [0, 0.01*t, 0]\n",
    "\n",
    "    day = startdate + datetime.timedelta(days=t)\n",
    "    #lv['title'] = str(time[count]) + \" \" + day.strftime(\"%d %B, %Y\")\n",
    "    lv.view(0) #Select first viewport\n",
    "    #lv['title'] = \"\" #\"-Total column ozone and hole region (< 220 DU) \" + day.strftime(\"%d %B, %Y\").rjust(20)\n",
    "    lv['title'] = \"-Total column ozone : \" + day.strftime(\"%B %Y\")\n",
    "\n",
    "    #Rotate the earth about it's axis\n",
    "    if rotation:\n",
    "        #Rotate around X to show both hemispheres throughout year\n",
    "        #Need to show southern in latter half so the hole is visible\n",
    "        #tt = day.timetuple()\n",
    "        #yday = tt.tm_yday #Day of year\n",
    "        #R[0] = (1.0 - math.sin((yday / 365.) * math.pi)) * 90\n",
    "        #print(\"yday\", yday, R[0])\n",
    "        #Y axis rotation\n",
    "        R[1] += 0.5 #0.1\n",
    "        for o in ['F', 'R', 'B', 'L', 'U', 'D', 'strato']:\n",
    "            obj = lv.objects[o]\n",
    "            obj[\"rotate\"] = R\n",
    "\n",
    "    #Get timestep\n",
    "    toz = np.array(ds['toz'][t])\n",
    "    \n",
    "    #print(toz.shape)\n",
    "    #Normalise\n",
    "    image = (toz-mmin)/(mmax-mmin)\n",
    "    #Clip out of [0,1] range - in case defined range is not the global minima/maxima\n",
    "    image = np.clip(image, 0, 1)\n",
    "\n",
    "    #Apply colourmap\n",
    "    #tex = cm.viridis(image)\n",
    "    #tex = cm.magma(image)\n",
    "    tex = mcm(image)\n",
    "    #norm = matplotlib.colors.LogNorm()\n",
    "    #i2 = norm(image)\n",
    "    #tex = mcm(i2)\n",
    "    #print(tex)\n",
    "\n",
    "    #print(\"Range of timestep:\", toz.min(),toz.max())\n",
    "\n",
    "    #print(tex.shape)\n",
    "    #Add alpha channel - passes the original normalised toz data\n",
    "    tex_a = np.dstack((tex[::,::,0:3], image))\n",
    "\n",
    "    tris0.texture(tex_a)\n",
    "\n",
    "#lv.translation(0.37226, -0.897176, -15.9221)\n",
    "#lv.rotation(0.0788629, 0.80106, -0.58636, -0.0913035)\n",
    "#lv.translation(0.53, -1.145, -16.104)\n",
    "lv.view(0)\n",
    "#Angled for rotation view\n",
    "if rotation:\n",
    "    #lv.translation(-3.241, -0.225, -17.858)\n",
    "    #lv.translation(0.288, -0.177, -17.5) #WITH TITLE\n",
    "    lv.translation(0.0, 0.0, -17.087)     #NO TITLE\n",
    "    lv.rotation(-107.232, -3.084, 166.483)\n",
    "else:\n",
    "    # Polar view, no rotating animation\n",
    "    #lv.translation(-3.241, -0.225, -17.858)\n",
    "    #lv.rotation(-80, 2, 45)\n",
    "    #lv.translation(0, 0, -17.8)\n",
    "    lv.translation(0.288, -0.177, -17.5)\n",
    "    #lv.rotation(-90, 0, 125)\n",
    "\n",
    "get_frame_3d(0)\n",
    "#lv.interactive()"
   ]
  },
  {
   "cell_type": "code",
   "execution_count": null,
   "id": "9007ebeb-1bbd-41b5-988d-1e32558a8cb5",
   "metadata": {},
   "outputs": [],
   "source": [
    "lv.camera()"
   ]
  },
  {
   "cell_type": "code",
   "execution_count": null,
   "id": "0ea34eaf-2919-47c8-9fb0-7391cc00992d",
   "metadata": {},
   "outputs": [],
   "source": [
    "#get_frame_3d(1000)\n",
    "#24th October 2018\n",
    "#get_frame_3d(21481)\n",
    "#29th October 2017\n",
    "get_frame_3d(21121)"
   ]
  },
  {
   "cell_type": "code",
   "execution_count": null,
   "id": "93908b86-cf21-4291-b2b8-53ad0782ebd9",
   "metadata": {},
   "outputs": [],
   "source": [
    "#lv.resize(size[0], size[1])\n",
    "#lv.blend('pre')\n",
    "#lv['contrast'] = None #1.25\n",
    "#lv['brightness'] = None #-0.25\n",
    "#lv['saturation'] = None #0.25\n",
    "\n",
    "tris0['contrast'] = 1.2 #1.\n",
    "tris0['brightness'] = 0.\n",
    "tris0['saturation'] = 1."
   ]
  },
  {
   "cell_type": "code",
   "execution_count": null,
   "id": "6b470e79-d6e6-469a-bc54-4576d38deaba",
   "metadata": {},
   "outputs": [],
   "source": [
    "#img_3d = lv.rawimage(resolution=(640,480), channels=3)\n",
    "#print(img_3d.data.shape)\n",
    "lv.display(resolution=size)"
   ]
  },
  {
   "cell_type": "code",
   "execution_count": null,
   "id": "15083c4b-6037-45ba-81f4-e1df766fc128",
   "metadata": {},
   "outputs": [],
   "source": [
    "#Save last frame texture as image for testing\n",
    "'''\n",
    "print(tex.shape,tex.dtype)\n",
    "print((tex * 255.0).astype(np.uint8))\n",
    "from PIL import Image\n",
    "im = Image.fromarray((tex * 255.0).astype(np.uint8))\n",
    "im.save(\"oz.png\")\n",
    "''';"
   ]
  },
  {
   "cell_type": "markdown",
   "id": "aaf84a75",
   "metadata": {},
   "source": [
    "### Load saved data from Ozone-Calc"
   ]
  },
  {
   "cell_type": "code",
   "execution_count": null,
   "id": "66e6d755",
   "metadata": {
    "scrolled": true
   },
   "outputs": [],
   "source": [
    "dates = np.array(ds['time'])\n",
    "years = dates.astype('datetime64[Y]').astype(int) + 1970\n",
    "months = dates.astype('datetime64[M]').astype(int) % 12 + 1\n",
    "days = (dates.astype('datetime64[D]') - dates.astype('datetime64[M]')).astype(int) + 1\n",
    "\n",
    "cfn = \"year_max.json\"\n",
    "afn = \"all.json\"\n",
    "alldata = []\n",
    "if os.path.exists(cfn):\n",
    "    with open(cfn, \"r\") as infile:\n",
    "        year_max = json.load(infile)\n",
    "    with open(afn, \"r\") as infile:\n",
    "        alldata = json.load(infile)\n",
    "else:\n",
    "    print('Please run Ozone-Calc.ipynb first')"
   ]
  },
  {
   "cell_type": "code",
   "execution_count": null,
   "id": "0b6abcad-b958-4598-80b8-820e3eeec9d2",
   "metadata": {},
   "outputs": [],
   "source": [
    "print(years[0], years[-1])"
   ]
  },
  {
   "cell_type": "code",
   "execution_count": null,
   "id": "fb3cf9e0-9bfd-49c3-9752-05af48d3b415",
   "metadata": {},
   "outputs": [],
   "source": [
    "#Get the axis data\n",
    "\n",
    "#Years, sorted and duplicates removed\n",
    "x = np.array(sorted(list(set(years))))\n",
    "#Max hole area per year\n",
    "y = np.array(list(year_max.values()))\n",
    "\n",
    "#print(x, y)\n",
    "#plt.plot(x,y)\n",
    "#plt.show()\n",
    "\n",
    "#create scatterplot to verify we have the data loaded\n",
    "plt.scatter(x, y);"
   ]
  },
  {
   "cell_type": "markdown",
   "id": "1bc13932",
   "metadata": {},
   "source": [
    "https://www.datatechnotes.com/2021/11/scattered-data-spline-fitting-example.html"
   ]
  },
  {
   "cell_type": "code",
   "execution_count": null,
   "id": "036655a4",
   "metadata": {},
   "outputs": [],
   "source": [
    "knot_numbers = 2 #Higher numbers fit the data closer, but look bad at the ends\n",
    "x_new = np.linspace(0, 1, knot_numbers+2)[1:-1]\n",
    "q_knots = np.quantile(x, x_new)\n",
    "\n",
    "t,c,k = interpolate.splrep(x, y, t=q_knots, s=1)\n",
    "yfit = interpolate.BSpline(t,c,k)(x)"
   ]
  },
  {
   "cell_type": "code",
   "execution_count": null,
   "id": "1d6a2ce0",
   "metadata": {},
   "outputs": [],
   "source": [
    "#3d and 2d plot combined\n",
    "frame = np.zeros(dtype='uint8', shape=(size[1], size[0], 3))\n",
    "print(frame.shape)"
   ]
  },
  {
   "cell_type": "code",
   "execution_count": null,
   "id": "27fd13aa",
   "metadata": {},
   "outputs": [],
   "source": [
    "# Enable interactive plot\n",
    "#%matplotlib notebook\n",
    "%matplotlib widget"
   ]
  },
  {
   "cell_type": "code",
   "execution_count": null,
   "id": "ae8886e2-dde1-4e7e-88ed-e81823cdf9ba",
   "metadata": {},
   "outputs": [],
   "source": [
    "my_dpi = 200 #high_dpi work screen\n",
    "#Fig size to fit two plots vertically in full res (size)\n",
    "figsize = [7, 10.8] #int(size[1] / my_dpi), int(size[0] / my_dpi)]\n",
    "print(figsize)\n",
    "plt.rcParams['figure.figsize'] = figsize #[5.0, 8.0]\n",
    "plt.rcParams['figure.dpi'] = my_dpi // 2\n",
    "plt.rcParams.update({'font.size': 16})\n",
    "#plt.rcParams[\"font.family\"] = 'sans-serif' #\"Arial\""
   ]
  },
  {
   "cell_type": "code",
   "execution_count": null,
   "id": "ff6de92b-7ac4-4e70-a6e7-63b087f127e5",
   "metadata": {},
   "outputs": [],
   "source": []
  },
  {
   "cell_type": "code",
   "execution_count": null,
   "id": "380acf15",
   "metadata": {},
   "outputs": [],
   "source": [
    " #print(plt.style.available)\n",
    "plt.style.use(\"dark_background\")\n",
    "\n",
    "# create a figure with axes, 2 subplots\n",
    "#fig, (ax1, ax2) = plt.subplots(2, figsize=(5, 8), dpi=dpi)\n",
    "fig, (ax1, ax2) = plt.subplots(2, figsize=figsize, dpi=my_dpi // 2)\n",
    "fig.patch.set_facecolor(background)\n",
    "ax1.set_facecolor(background)\n",
    "ax2.set_facecolor(background)\n",
    "canvas = fig.canvas\n",
    "\n",
    "#plt.title(\"Ozone hole maximum size\")\n",
    "ax1.plot(x, y, '.', color=\"grey\", label=\"original\")\n",
    "ax1.plot(x, yfit, '-', label=\"spline fit\", color=\"mediumpurple\")\n",
    "#ax1.legend(loc='best', fancybox=True, shadow=True)\n",
    "#ax1.grid()\n",
    "ax1.set_xlabel('Year')\n",
    "#ax1.set_ylabel('Area (million km²)')\n",
    "ax1.set_ylabel('')\n",
    "#plt.show()\n",
    "\n",
    "# Hide the right and top spines\n",
    "ax1.spines[['right', 'top']].set_visible(False)\n",
    "#Remove axis margins\n",
    "ax1.margins(x=0)\n",
    "ax1.margins(y=0)\n",
    "\n",
    "#Hide intermediate ticks\n",
    "xlabels = ax1.xaxis.get_ticklabels()\n",
    "#for xl in xlabels[1:-1]:\n",
    "#    xl.set_visible(False)\n",
    "#ylabels = ax1.yaxis.get_ticklabels()\n",
    "#for yl in ylabels[0:-2]:\n",
    "#    yl.set_visible(False)\n",
    "ax1.set_ylim([0, 20])\n",
    "ax1.set_yticks([0,20]) \n",
    "\n",
    "###### LINE WIDTHS ######\n",
    "# change all spines\n",
    "lw = 3 #2\n",
    "for axis in ['bottom','left']:\n",
    "    ax1.spines[axis].set_linewidth(lw)\n",
    "    ax2.spines[axis].set_linewidth(lw)\n",
    "# increase tick width\n",
    "tw = lw #3 #2\n",
    "ax1.tick_params(width=tw, length=10)\n",
    "ax2.tick_params(width=tw, length=10)\n",
    "########################\n",
    "\n",
    "#ax = plt.gca()\n",
    "# create a point in the axes\n",
    "point, = ax1.plot(years[0],y[0], marker=\"o\", color='seashell', markersize=10)\n",
    "#point0, = ax1.plot(years[0],y[0], marker=\"o\", color='white', markersize=5)\n",
    "#bar, = ax.bar(1960,y[0], color='darkgrey')\n",
    "\n",
    "######################## Months plot\n",
    "ax2.set_xlabel('Month')\n",
    "#ax2.set_ylabel('Area (million km²)')\n",
    "ax2.set_ylabel('')\n",
    "\n",
    "#Get Jan-Dec data\n",
    "def get_months_plot(year):\n",
    "    yl = list(years)\n",
    "    i0 = yl.index(year)\n",
    "    if year == years[-1]:\n",
    "        i1 = len(dates)-1\n",
    "    else:\n",
    "        i1 = yl.index(year+1)\n",
    "    return dates[i0:i1], alldata[i0:i1]\n",
    "\n",
    "D = 0\n",
    "date_list, yy = get_months_plot(years[D])\n",
    "#print(D, date_list,yy)\n",
    "\n",
    "curplot, = ax2.plot(date_list, yy, color=\"#c4bbff\")\n",
    "#Current day marker\n",
    "point2, = ax2.plot(date_list[0],yy[0], marker=\"o\", color='seashell', markersize=10)\n",
    "\n",
    "# Set the locator\n",
    "locator = mdates.MonthLocator()  # every month\n",
    "# Specify the format - %b gives us Jan, Feb...\n",
    "month_fmt = mdates.DateFormatter('%b')\n",
    "\n",
    "X = plt.gca().xaxis\n",
    "X.set_major_locator(locator)\n",
    "# Specify formatter\n",
    "X.set_major_formatter(month_fmt)\n",
    "\n",
    "#Lock the ticks to Jan-Dec\n",
    "#ticks = [np.datetime64('2000-%02d-01'%month) for month in range(1, 13)]\n",
    "#ax2.set_xticks(ticks)\n",
    "X.set_major_formatter(mdates.DateFormatter('%b'))\n",
    "\n",
    "# Hide the right and top spines\n",
    "ax2.spines[['right', 'top']].set_visible(False)\n",
    "#Remove axis margins\n",
    "ax2.margins(x=0.1)\n",
    "#ax2.margins(y=0)\n",
    "ax2.margins(y=0.25)\n",
    "\n",
    "ax2.set_ylim([0, 20])\n",
    "#Hide intermediate ticks in Y\n",
    "#ylabels = ax2.yaxis.get_ticklabels()\n",
    "#for yl in ylabels[0:-1]:\n",
    "#    yl.set_visible(False)\n",
    "\n",
    "ax2.set_yticks([0,20]) \n",
    "\n",
    "##########################################\n",
    "\n",
    "outdir = 'frames/'\n",
    "os.makedirs(outdir, exist_ok=True)\n",
    "X = None\n",
    "Y = -1\n",
    "\n",
    "plt.show();"
   ]
  },
  {
   "cell_type": "code",
   "execution_count": null,
   "id": "9d494418-a53e-489a-ab07-26ba7bd1214d",
   "metadata": {},
   "outputs": [],
   "source": [
    "def get_frame(idx):\n",
    "    #Get 3d frame\n",
    "    get_frame_3d(idx)\n",
    "\n",
    "    #2d plot\n",
    "    #Capture image data\n",
    "    year = years[idx]\n",
    "\n",
    "    #global X,Y   \n",
    "    # set point's coordinates\n",
    "    ts = year - 1960\n",
    "    #point0.set_data([year],[y[ts]])\n",
    "    #point.set_data([year],[yfit[ts]])\n",
    "    point.set_data([year],[y[ts]])\n",
    "    \n",
    "    date_list, yy = get_months_plot(year)\n",
    "    curplot.set_data(date_list,yy)\n",
    "    ax2.set_xlim([date_list[0], date_list[-1]])\n",
    "    #Current day marker\n",
    "    point2.set_data([dates[idx]], [alldata[idx]])\n",
    "    #print(\"POINT2\",[dates[idx]], [alldata[idx]])\n",
    "\n",
    "    canvas.draw()  # Draw the canvas, cache the renderer\n",
    "    X = np.asarray(canvas.buffer_rgba())\n",
    "\n",
    "    ## NEW METHOD, PLOT INSET WITH TEXTURE\n",
    "    render_with_overlay(X)\n"
   ]
  },
  {
   "cell_type": "code",
   "execution_count": null,
   "id": "6fc2804b-0562-4750-bb41-fb75f7b5cec2",
   "metadata": {},
   "outputs": [],
   "source": [
    "lv[\"fontscale\"] = 0.7"
   ]
  },
  {
   "cell_type": "code",
   "execution_count": null,
   "id": "d43d0830-338d-470e-bd53-0eb2b2000000",
   "metadata": {},
   "outputs": [],
   "source": [
    "#29th October 2017\n",
    "get_frame(21121)"
   ]
  },
  {
   "cell_type": "code",
   "execution_count": null,
   "id": "9784bed1-e941-4e8e-b4b7-ecf3f9e4c45d",
   "metadata": {},
   "outputs": [],
   "source": [
    "#lv.display((1920//2,1080//2))\n",
    "lv.display((1920,1080))"
   ]
  },
  {
   "cell_type": "code",
   "execution_count": null,
   "id": "f1fb2d44-3e71-4359-a15e-5c6f19f40d9d",
   "metadata": {},
   "outputs": [],
   "source": [
    "#raise(Exception())"
   ]
  },
  {
   "cell_type": "code",
   "execution_count": null,
   "id": "5ba9c96a-5514-4963-8fbd-a87cafefb8de",
   "metadata": {},
   "outputs": [],
   "source": [
    "get_frame(0) #Reset to start"
   ]
  },
  {
   "cell_type": "markdown",
   "id": "d7660f86-6193-45c4-8cab-0ab3ccc6e213",
   "metadata": {},
   "source": [
    "# Render animation"
   ]
  },
  {
   "cell_type": "code",
   "execution_count": null,
   "id": "240aa0d2-1cf4-4662-bb42-b31698caa00f",
   "metadata": {},
   "outputs": [],
   "source": [
    "frames = int(len(times))\n",
    "print(frames)\n",
    "\n",
    "#Faster animation - skip matplotlib animation functions\n",
    "step = 1 #step increment in days\n",
    "#step = 7\n",
    "#step = 2 #Every 2nd day\n",
    "start = 0 #Start from first\n",
    "\n",
    "#Resume - find a date in the list\n",
    "#start = list(dates).index(np.datetime64(datetime.datetime.strptime('Sep 30 2018  12:00PM', '%b %d %Y %I:%M%p')))\n",
    "\n",
    "#Find a date in the list\n",
    "single_year = False\n",
    "#single_year = 2018\n",
    "if single_year:\n",
    "    ldates = list(dates)\n",
    "    datestr = f'Jan 1 {single_year}  12:00PM'\n",
    "    thedate = datetime.datetime.strptime(datestr, '%b %d %Y %I:%M%p')\n",
    "    frame_idx = ldates.index(np.datetime64(thedate))\n",
    "    start = frame_idx\n",
    "    #Override frame count, just plot one year\n",
    "    frames = start + 365\n",
    "\n",
    "#for f in tqdm(range(start,frames,step), desc='Rendering loop'):\n",
    "#    get_frame(f)\n",
    "#fps=120 : 4x faster\n",
    "#with lv.video(filename='ozone_v3.mp4', fps=120, resolution=(1920,1080), width=1920//2, height=1080//2, params=\"autoplay\"):\n",
    "with lv.video(filename='ozone_v6.mp4', fps=60, quality=3, resolution=(1920,1080), width=1920//2, height=1080//2, params=\"autoplay\"):\n",
    "    for f in tqdm(range(start,frames,step), desc='Rendering loop'):\n",
    "        get_frame(f)"
   ]
  },
  {
   "cell_type": "code",
   "execution_count": null,
   "id": "8c1af625-ba0c-4d1b-8d0e-9c8939f8050a",
   "metadata": {},
   "outputs": [],
   "source": [
    "#raise(Exception())"
   ]
  },
  {
   "cell_type": "markdown",
   "id": "831471b3-b73e-425f-ad0c-a12415db321e",
   "metadata": {},
   "source": [
    "## Render single year plot"
   ]
  },
  {
   "cell_type": "code",
   "execution_count": null,
   "id": "89cb9f2f-5a16-4bdb-9857-73faa66fdf40",
   "metadata": {},
   "outputs": [],
   "source": [
    "year = 2019\n",
    "step = 1 #step increment in days\n",
    "#Find a date in the list\n",
    "start = list(dates).index(np.datetime64(datetime.datetime.strptime(f'Jan 1 {year} 12:00PM', '%b %d %Y %I:%M%p')))\n",
    "end = list(dates).index(np.datetime64(datetime.datetime.strptime(f'Dec 31 {year} 12:00PM', '%b %d %Y %I:%M%p')))\n",
    "#Override frame count, just plot one year\n",
    "frames = end - start + 1\n",
    "print(frames)\n",
    "\n",
    "with lv.video(filename=f'ozone_{year}.mp4', quality=3, resolution=(1920,1080), width=1920//2, height=1080//2, params=\"autoplay\"):\n",
    "    for f in tqdm(range(start,end,step), desc='Rendering loop'):\n",
    "        get_frame(f)"
   ]
  },
  {
   "cell_type": "markdown",
   "id": "bea5220b-8e06-4031-b8fd-5e26196ea5c1",
   "metadata": {},
   "source": [
    "## Render maximum extent for all years"
   ]
  },
  {
   "cell_type": "code",
   "execution_count": null,
   "id": "0f9a53a3-6e7d-4342-bef3-2ee6add5153e",
   "metadata": {},
   "outputs": [],
   "source": [
    "ylist = list(years)\n",
    "def get_max_frame(y):\n",
    "    i0 = ylist.index(y)\n",
    "    if y == 2100:\n",
    "        i1 = len(ylist)\n",
    "    else:\n",
    "        i1 = ylist.index(y+1)\n",
    "    #Full year of data\n",
    "    ydata = alldata[i0:i1]\n",
    "    maxima = max(ydata)\n",
    "    #print(dates[i0:i1])\n",
    "    idx = ydata.index(maxima) + i0\n",
    "    #print(maxima, idx)\n",
    "    return idx\n",
    "\n",
    "yrs = sorted(set(ylist))\n",
    "lv.translation(0, 0, -17)\n",
    "lv.rotation(-90.0, 0.0, 0.0)\n",
    "\n",
    "rotation = False\n",
    "with lv.video(filename=f'ozone_hole_maximums.mp4', quality=3, fps=3, resolution=(1920,1080), width=1920//2, height=1080//2, params=\"autoplay\"):\n",
    "    for yr in tqdm(yrs, desc='Rendering loop'):\n",
    "        first = list(dates).index(np.datetime64(datetime.datetime.strptime(f'Jan 1 {yr} 12:00PM', '%b %d %Y %I:%M%p')))\n",
    "        idx = get_max_frame(yr)\n",
    "        #get_frame(idx+first)\n",
    "        get_frame(idx)"
   ]
  },
  {
   "cell_type": "code",
   "execution_count": null,
   "id": "5e213990-7c8e-4fb9-9c76-b384952c52d1",
   "metadata": {},
   "outputs": [],
   "source": []
  },
  {
   "cell_type": "code",
   "execution_count": null,
   "id": "bd022080-ef50-4cfc-b6e4-2b6d757173af",
   "metadata": {},
   "outputs": [],
   "source": [
    "raise(Exception()) #Stop here"
   ]
  },
  {
   "cell_type": "markdown",
   "id": "a92c5d59-d996-4ca8-bf46-42b822541d38",
   "metadata": {},
   "source": [
    "## Create a poster image\n",
    "\n",
    "4K Res"
   ]
  },
  {
   "cell_type": "code",
   "execution_count": null,
   "id": "b0690fdd-121c-461c-a21e-43caa5139907",
   "metadata": {},
   "outputs": [],
   "source": [
    "#Find a date in the list\n",
    "get_frame_3d(list(dates).index(np.datetime64(datetime.datetime.strptime('Sep 21 2019  12:00PM', '%b %d %Y %I:%M%p'))))"
   ]
  },
  {
   "cell_type": "code",
   "execution_count": null,
   "id": "404d6a8e-39f9-4342-8e47-13e5be199d71",
   "metadata": {},
   "outputs": [],
   "source": [
    "lv.viewport(0, 0, 1.0, 1.0) #, replace=True, title=\"\")\n",
    "lv.delete('screen1')"
   ]
  },
  {
   "cell_type": "code",
   "execution_count": null,
   "id": "12244c85-bfd9-4720-a751-746d935791ab",
   "metadata": {},
   "outputs": [],
   "source": [
    "lv.translation(0, 0, -17)\n",
    "lv.rotation(-101.964, -22.039, 148.317)\n",
    "\n",
    "lv.background('black')\n"
   ]
  },
  {
   "cell_type": "code",
   "execution_count": null,
   "id": "43882d0f-0022-4ff7-8cb4-b7513f5eaac9",
   "metadata": {},
   "outputs": [],
   "source": [
    "lv.hide('colourbar')\n",
    "lv['title'] = ''\n",
    "lv.display(resolution=(512,512))"
   ]
  },
  {
   "cell_type": "code",
   "execution_count": null,
   "id": "5ec9c281-9471-4854-814a-3b5bc3529a48",
   "metadata": {},
   "outputs": [],
   "source": [
    "lv.image(\"poster_ozone_v2.png\", resolution=(4096,4096), transparent=True)"
   ]
  },
  {
   "cell_type": "code",
   "execution_count": null,
   "id": "293796ad-c525-42c0-a020-996e7bd574c7",
   "metadata": {},
   "outputs": [],
   "source": []
  }
 ],
 "metadata": {
  "kernelspec": {
   "display_name": "Python 3 (ipykernel)",
   "language": "python",
   "name": "python3"
  },
  "language_info": {
   "codemirror_mode": {
    "name": "ipython",
    "version": 3
   },
   "file_extension": ".py",
   "mimetype": "text/x-python",
   "name": "python",
   "nbconvert_exporter": "python",
   "pygments_lexer": "ipython3",
   "version": "3.10.12"
  }
 },
 "nbformat": 4,
 "nbformat_minor": 5
}
