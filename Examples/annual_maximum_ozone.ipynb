{
 "cells": [
  {
   "cell_type": "markdown",
   "id": "26c42b1a-14ed-4970-947e-6047970ecd85",
   "metadata": {},
   "source": [
    "# Maximum Ozone Hole Extent\n",
    "In this notebook we will plot both the historical and predicted ozone hole size.\n",
    "* Calculate the size of the ozone hole.\n",
    "  * This includes calculating the area of each grid cell.\n",
    "* Finding the day of the year where the ozone hole is largest.\n",
    "* Animating this hole over time.\n",
    "\n",
    "The data used is available in project p73 on gadi and takes about 5 minutes to run."
   ]
  },
  {
   "cell_type": "markdown",
   "id": "207ea716-0103-4252-947d-d6b03469ec97",
   "metadata": {},
   "source": [
    "## Initial Setup"
   ]
  },
  {
   "cell_type": "code",
   "execution_count": 1,
   "id": "c8aec554-cc9d-49a4-9909-06ab936947b0",
   "metadata": {},
   "outputs": [],
   "source": [
    "import accessvis\n",
    "import os\n",
    "import glob\n",
    "from tqdm.notebook import tqdm\n",
    "import numpy as np\n",
    "import matplotlib.pyplot as plt\n",
    "import xarray as xr\n",
    "import json"
   ]
  },
  {
   "cell_type": "markdown",
   "id": "d45286ff-ac1f-4077-890f-a61f9abcae33",
   "metadata": {},
   "source": [
    "Finding and pre-loading data to speed up the rest of the notebook (~5GB)."
   ]
  },
  {
   "cell_type": "code",
   "execution_count": 2,
   "id": "948836f4-187b-4d8c-bbf4-27f5902f5dd2",
   "metadata": {},
   "outputs": [
    {
     "name": "stdout",
     "output_type": "stream",
     "text": [
      "/g/data/p73/archive/non-CMIP/CMORised/CCMI2022/CSIRO-ARCCSS/ACCESS-CM2-Chem/refD2/r1i1p1f1/Aday/toz/gn/v20220822/toz_Aday_ACCESS-CM2-Chem_refD2_r1i1p1f1_gn_19600101-20091231.nc\n",
      "/g/data/p73/archive/non-CMIP/CMORised/CCMI2022/CSIRO-ARCCSS/ACCESS-CM2-Chem/refD2/r1i1p1f1/Aday/toz/gn/v20220822/toz_Aday_ACCESS-CM2-Chem_refD2_r1i1p1f1_gn_20100101-20591231.nc\n",
      "/g/data/p73/archive/non-CMIP/CMORised/CCMI2022/CSIRO-ARCCSS/ACCESS-CM2-Chem/refD2/r1i1p1f1/Aday/toz/gn/v20220822/toz_Aday_ACCESS-CM2-Chem_refD2_r1i1p1f1_gn_20600101-21001231.nc\n"
     ]
    },
    {
     "data": {
      "text/html": [
       "<div><svg style=\"position: absolute; width: 0; height: 0; overflow: hidden\">\n",
       "<defs>\n",
       "<symbol id=\"icon-database\" viewBox=\"0 0 32 32\">\n",
       "<path d=\"M16 0c-8.837 0-16 2.239-16 5v4c0 2.761 7.163 5 16 5s16-2.239 16-5v-4c0-2.761-7.163-5-16-5z\"></path>\n",
       "<path d=\"M16 17c-8.837 0-16-2.239-16-5v6c0 2.761 7.163 5 16 5s16-2.239 16-5v-6c0 2.761-7.163 5-16 5z\"></path>\n",
       "<path d=\"M16 26c-8.837 0-16-2.239-16-5v6c0 2.761 7.163 5 16 5s16-2.239 16-5v-6c0 2.761-7.163 5-16 5z\"></path>\n",
       "</symbol>\n",
       "<symbol id=\"icon-file-text2\" viewBox=\"0 0 32 32\">\n",
       "<path d=\"M28.681 7.159c-0.694-0.947-1.662-2.053-2.724-3.116s-2.169-2.030-3.116-2.724c-1.612-1.182-2.393-1.319-2.841-1.319h-15.5c-1.378 0-2.5 1.121-2.5 2.5v27c0 1.378 1.122 2.5 2.5 2.5h23c1.378 0 2.5-1.122 2.5-2.5v-19.5c0-0.448-0.137-1.23-1.319-2.841zM24.543 5.457c0.959 0.959 1.712 1.825 2.268 2.543h-4.811v-4.811c0.718 0.556 1.584 1.309 2.543 2.268zM28 29.5c0 0.271-0.229 0.5-0.5 0.5h-23c-0.271 0-0.5-0.229-0.5-0.5v-27c0-0.271 0.229-0.5 0.5-0.5 0 0 15.499-0 15.5 0v7c0 0.552 0.448 1 1 1h7v19.5z\"></path>\n",
       "<path d=\"M23 26h-14c-0.552 0-1-0.448-1-1s0.448-1 1-1h14c0.552 0 1 0.448 1 1s-0.448 1-1 1z\"></path>\n",
       "<path d=\"M23 22h-14c-0.552 0-1-0.448-1-1s0.448-1 1-1h14c0.552 0 1 0.448 1 1s-0.448 1-1 1z\"></path>\n",
       "<path d=\"M23 18h-14c-0.552 0-1-0.448-1-1s0.448-1 1-1h14c0.552 0 1 0.448 1 1s-0.448 1-1 1z\"></path>\n",
       "</symbol>\n",
       "</defs>\n",
       "</svg>\n",
       "<style>/* CSS stylesheet for displaying xarray objects in jupyterlab.\n",
       " *\n",
       " */\n",
       "\n",
       ":root {\n",
       "  --xr-font-color0: var(--jp-content-font-color0, rgba(0, 0, 0, 1));\n",
       "  --xr-font-color2: var(--jp-content-font-color2, rgba(0, 0, 0, 0.54));\n",
       "  --xr-font-color3: var(--jp-content-font-color3, rgba(0, 0, 0, 0.38));\n",
       "  --xr-border-color: var(--jp-border-color2, #e0e0e0);\n",
       "  --xr-disabled-color: var(--jp-layout-color3, #bdbdbd);\n",
       "  --xr-background-color: var(--jp-layout-color0, white);\n",
       "  --xr-background-color-row-even: var(--jp-layout-color1, white);\n",
       "  --xr-background-color-row-odd: var(--jp-layout-color2, #eeeeee);\n",
       "}\n",
       "\n",
       "html[theme=dark],\n",
       "html[data-theme=dark],\n",
       "body[data-theme=dark],\n",
       "body.vscode-dark {\n",
       "  --xr-font-color0: rgba(255, 255, 255, 1);\n",
       "  --xr-font-color2: rgba(255, 255, 255, 0.54);\n",
       "  --xr-font-color3: rgba(255, 255, 255, 0.38);\n",
       "  --xr-border-color: #1F1F1F;\n",
       "  --xr-disabled-color: #515151;\n",
       "  --xr-background-color: #111111;\n",
       "  --xr-background-color-row-even: #111111;\n",
       "  --xr-background-color-row-odd: #313131;\n",
       "}\n",
       "\n",
       ".xr-wrap {\n",
       "  display: block !important;\n",
       "  min-width: 300px;\n",
       "  max-width: 700px;\n",
       "}\n",
       "\n",
       ".xr-text-repr-fallback {\n",
       "  /* fallback to plain text repr when CSS is not injected (untrusted notebook) */\n",
       "  display: none;\n",
       "}\n",
       "\n",
       ".xr-header {\n",
       "  padding-top: 6px;\n",
       "  padding-bottom: 6px;\n",
       "  margin-bottom: 4px;\n",
       "  border-bottom: solid 1px var(--xr-border-color);\n",
       "}\n",
       "\n",
       ".xr-header > div,\n",
       ".xr-header > ul {\n",
       "  display: inline;\n",
       "  margin-top: 0;\n",
       "  margin-bottom: 0;\n",
       "}\n",
       "\n",
       ".xr-obj-type,\n",
       ".xr-array-name {\n",
       "  margin-left: 2px;\n",
       "  margin-right: 10px;\n",
       "}\n",
       "\n",
       ".xr-obj-type {\n",
       "  color: var(--xr-font-color2);\n",
       "}\n",
       "\n",
       ".xr-sections {\n",
       "  padding-left: 0 !important;\n",
       "  display: grid;\n",
       "  grid-template-columns: 150px auto auto 1fr 20px 20px;\n",
       "}\n",
       "\n",
       ".xr-section-item {\n",
       "  display: contents;\n",
       "}\n",
       "\n",
       ".xr-section-item input {\n",
       "  display: none;\n",
       "}\n",
       "\n",
       ".xr-section-item input + label {\n",
       "  color: var(--xr-disabled-color);\n",
       "}\n",
       "\n",
       ".xr-section-item input:enabled + label {\n",
       "  cursor: pointer;\n",
       "  color: var(--xr-font-color2);\n",
       "}\n",
       "\n",
       ".xr-section-item input:enabled + label:hover {\n",
       "  color: var(--xr-font-color0);\n",
       "}\n",
       "\n",
       ".xr-section-summary {\n",
       "  grid-column: 1;\n",
       "  color: var(--xr-font-color2);\n",
       "  font-weight: 500;\n",
       "}\n",
       "\n",
       ".xr-section-summary > span {\n",
       "  display: inline-block;\n",
       "  padding-left: 0.5em;\n",
       "}\n",
       "\n",
       ".xr-section-summary-in:disabled + label {\n",
       "  color: var(--xr-font-color2);\n",
       "}\n",
       "\n",
       ".xr-section-summary-in + label:before {\n",
       "  display: inline-block;\n",
       "  content: '►';\n",
       "  font-size: 11px;\n",
       "  width: 15px;\n",
       "  text-align: center;\n",
       "}\n",
       "\n",
       ".xr-section-summary-in:disabled + label:before {\n",
       "  color: var(--xr-disabled-color);\n",
       "}\n",
       "\n",
       ".xr-section-summary-in:checked + label:before {\n",
       "  content: '▼';\n",
       "}\n",
       "\n",
       ".xr-section-summary-in:checked + label > span {\n",
       "  display: none;\n",
       "}\n",
       "\n",
       ".xr-section-summary,\n",
       ".xr-section-inline-details {\n",
       "  padding-top: 4px;\n",
       "  padding-bottom: 4px;\n",
       "}\n",
       "\n",
       ".xr-section-inline-details {\n",
       "  grid-column: 2 / -1;\n",
       "}\n",
       "\n",
       ".xr-section-details {\n",
       "  display: none;\n",
       "  grid-column: 1 / -1;\n",
       "  margin-bottom: 5px;\n",
       "}\n",
       "\n",
       ".xr-section-summary-in:checked ~ .xr-section-details {\n",
       "  display: contents;\n",
       "}\n",
       "\n",
       ".xr-array-wrap {\n",
       "  grid-column: 1 / -1;\n",
       "  display: grid;\n",
       "  grid-template-columns: 20px auto;\n",
       "}\n",
       "\n",
       ".xr-array-wrap > label {\n",
       "  grid-column: 1;\n",
       "  vertical-align: top;\n",
       "}\n",
       "\n",
       ".xr-preview {\n",
       "  color: var(--xr-font-color3);\n",
       "}\n",
       "\n",
       ".xr-array-preview,\n",
       ".xr-array-data {\n",
       "  padding: 0 5px !important;\n",
       "  grid-column: 2;\n",
       "}\n",
       "\n",
       ".xr-array-data,\n",
       ".xr-array-in:checked ~ .xr-array-preview {\n",
       "  display: none;\n",
       "}\n",
       "\n",
       ".xr-array-in:checked ~ .xr-array-data,\n",
       ".xr-array-preview {\n",
       "  display: inline-block;\n",
       "}\n",
       "\n",
       ".xr-dim-list {\n",
       "  display: inline-block !important;\n",
       "  list-style: none;\n",
       "  padding: 0 !important;\n",
       "  margin: 0;\n",
       "}\n",
       "\n",
       ".xr-dim-list li {\n",
       "  display: inline-block;\n",
       "  padding: 0;\n",
       "  margin: 0;\n",
       "}\n",
       "\n",
       ".xr-dim-list:before {\n",
       "  content: '(';\n",
       "}\n",
       "\n",
       ".xr-dim-list:after {\n",
       "  content: ')';\n",
       "}\n",
       "\n",
       ".xr-dim-list li:not(:last-child):after {\n",
       "  content: ',';\n",
       "  padding-right: 5px;\n",
       "}\n",
       "\n",
       ".xr-has-index {\n",
       "  font-weight: bold;\n",
       "}\n",
       "\n",
       ".xr-var-list,\n",
       ".xr-var-item {\n",
       "  display: contents;\n",
       "}\n",
       "\n",
       ".xr-var-item > div,\n",
       ".xr-var-item label,\n",
       ".xr-var-item > .xr-var-name span {\n",
       "  background-color: var(--xr-background-color-row-even);\n",
       "  margin-bottom: 0;\n",
       "}\n",
       "\n",
       ".xr-var-item > .xr-var-name:hover span {\n",
       "  padding-right: 5px;\n",
       "}\n",
       "\n",
       ".xr-var-list > li:nth-child(odd) > div,\n",
       ".xr-var-list > li:nth-child(odd) > label,\n",
       ".xr-var-list > li:nth-child(odd) > .xr-var-name span {\n",
       "  background-color: var(--xr-background-color-row-odd);\n",
       "}\n",
       "\n",
       ".xr-var-name {\n",
       "  grid-column: 1;\n",
       "}\n",
       "\n",
       ".xr-var-dims {\n",
       "  grid-column: 2;\n",
       "}\n",
       "\n",
       ".xr-var-dtype {\n",
       "  grid-column: 3;\n",
       "  text-align: right;\n",
       "  color: var(--xr-font-color2);\n",
       "}\n",
       "\n",
       ".xr-var-preview {\n",
       "  grid-column: 4;\n",
       "}\n",
       "\n",
       ".xr-index-preview {\n",
       "  grid-column: 2 / 5;\n",
       "  color: var(--xr-font-color2);\n",
       "}\n",
       "\n",
       ".xr-var-name,\n",
       ".xr-var-dims,\n",
       ".xr-var-dtype,\n",
       ".xr-preview,\n",
       ".xr-attrs dt {\n",
       "  white-space: nowrap;\n",
       "  overflow: hidden;\n",
       "  text-overflow: ellipsis;\n",
       "  padding-right: 10px;\n",
       "}\n",
       "\n",
       ".xr-var-name:hover,\n",
       ".xr-var-dims:hover,\n",
       ".xr-var-dtype:hover,\n",
       ".xr-attrs dt:hover {\n",
       "  overflow: visible;\n",
       "  width: auto;\n",
       "  z-index: 1;\n",
       "}\n",
       "\n",
       ".xr-var-attrs,\n",
       ".xr-var-data,\n",
       ".xr-index-data {\n",
       "  display: none;\n",
       "  background-color: var(--xr-background-color) !important;\n",
       "  padding-bottom: 5px !important;\n",
       "}\n",
       "\n",
       ".xr-var-attrs-in:checked ~ .xr-var-attrs,\n",
       ".xr-var-data-in:checked ~ .xr-var-data,\n",
       ".xr-index-data-in:checked ~ .xr-index-data {\n",
       "  display: block;\n",
       "}\n",
       "\n",
       ".xr-var-data > table {\n",
       "  float: right;\n",
       "}\n",
       "\n",
       ".xr-var-name span,\n",
       ".xr-var-data,\n",
       ".xr-index-name div,\n",
       ".xr-index-data,\n",
       ".xr-attrs {\n",
       "  padding-left: 25px !important;\n",
       "}\n",
       "\n",
       ".xr-attrs,\n",
       ".xr-var-attrs,\n",
       ".xr-var-data,\n",
       ".xr-index-data {\n",
       "  grid-column: 1 / -1;\n",
       "}\n",
       "\n",
       "dl.xr-attrs {\n",
       "  padding: 0;\n",
       "  margin: 0;\n",
       "  display: grid;\n",
       "  grid-template-columns: 125px auto;\n",
       "}\n",
       "\n",
       ".xr-attrs dt,\n",
       ".xr-attrs dd {\n",
       "  padding: 0;\n",
       "  margin: 0;\n",
       "  float: left;\n",
       "  padding-right: 10px;\n",
       "  width: auto;\n",
       "}\n",
       "\n",
       ".xr-attrs dt {\n",
       "  font-weight: normal;\n",
       "  grid-column: 1;\n",
       "}\n",
       "\n",
       ".xr-attrs dt:hover span {\n",
       "  display: inline-block;\n",
       "  background: var(--xr-background-color);\n",
       "  padding-right: 10px;\n",
       "}\n",
       "\n",
       ".xr-attrs dd {\n",
       "  grid-column: 2;\n",
       "  white-space: pre-wrap;\n",
       "  word-break: break-all;\n",
       "}\n",
       "\n",
       ".xr-icon-database,\n",
       ".xr-icon-file-text2,\n",
       ".xr-no-icon {\n",
       "  display: inline-block;\n",
       "  vertical-align: middle;\n",
       "  width: 1em;\n",
       "  height: 1.5em !important;\n",
       "  stroke-width: 0;\n",
       "  stroke: currentColor;\n",
       "  fill: currentColor;\n",
       "}\n",
       "</style><pre class='xr-text-repr-fallback'>&lt;xarray.Dataset&gt; Size: 6GB\n",
       "Dimensions:   (time: 51500, lat: 144, bnds: 2, lon: 192)\n",
       "Coordinates:\n",
       "  * time      (time) datetime64[ns] 412kB 1960-01-01T12:00:00 ... 2100-12-31T...\n",
       "  * lat       (lat) float64 1kB -89.38 -88.12 -86.88 ... 86.88 88.12 89.38\n",
       "  * lon       (lon) float64 2kB 0.9375 2.812 4.688 6.562 ... 355.3 357.2 359.1\n",
       "Dimensions without coordinates: bnds\n",
       "Data variables:\n",
       "    lat_bnds  (time, lat, bnds) float64 119MB -90.0 -88.75 -88.75 ... 88.75 90.0\n",
       "    lon_bnds  (time, lon, bnds) float64 158MB 0.0 1.875 1.875 ... 358.1 360.0\n",
       "    toz       (time, lat, lon) float32 6GB 0.003163 0.003164 ... 0.005004\n",
       "Attributes: (12/45)\n",
       "    Conventions:             CF-1.7\n",
       "    activity_id:             CCMI2022\n",
       "    activity_participation:  CCMI2022\n",
       "    branch_method:           standard\n",
       "    branch_time_in_child:    0.0\n",
       "    branch_time_in_parent:   0.0\n",
       "    ...                      ...\n",
       "    variable_id:             toz\n",
       "    variant_label:           r1i1p1f1\n",
       "    version:                 v20220822\n",
       "    license:                 CCMI2022 model data produced by CSIRO is license...\n",
       "    cmor_version:            3.4.0\n",
       "    tracking_id:             hdl:21.14100/c172e59b-9c50-44be-836c-6c44dd9a8e40</pre><div class='xr-wrap' style='display:none'><div class='xr-header'><div class='xr-obj-type'>xarray.Dataset</div></div><ul class='xr-sections'><li class='xr-section-item'><input id='section-97fc733c-e0c1-42e4-a137-f44f49282b0c' class='xr-section-summary-in' type='checkbox' disabled ><label for='section-97fc733c-e0c1-42e4-a137-f44f49282b0c' class='xr-section-summary'  title='Expand/collapse section'>Dimensions:</label><div class='xr-section-inline-details'><ul class='xr-dim-list'><li><span class='xr-has-index'>time</span>: 51500</li><li><span class='xr-has-index'>lat</span>: 144</li><li><span>bnds</span>: 2</li><li><span class='xr-has-index'>lon</span>: 192</li></ul></div><div class='xr-section-details'></div></li><li class='xr-section-item'><input id='section-d0431238-04db-4935-a759-ac4140027250' class='xr-section-summary-in' type='checkbox'  checked><label for='section-d0431238-04db-4935-a759-ac4140027250' class='xr-section-summary' >Coordinates: <span>(3)</span></label><div class='xr-section-inline-details'></div><div class='xr-section-details'><ul class='xr-var-list'><li class='xr-var-item'><div class='xr-var-name'><span class='xr-has-index'>time</span></div><div class='xr-var-dims'>(time)</div><div class='xr-var-dtype'>datetime64[ns]</div><div class='xr-var-preview xr-preview'>1960-01-01T12:00:00 ... 2100-12-...</div><input id='attrs-9b3642bb-ba83-43f7-863e-7761e60bb7f3' class='xr-var-attrs-in' type='checkbox' ><label for='attrs-9b3642bb-ba83-43f7-863e-7761e60bb7f3' title='Show/Hide attributes'><svg class='icon xr-icon-file-text2'><use xlink:href='#icon-file-text2'></use></svg></label><input id='data-5dbb6449-1d09-4ab2-97d7-b660a11cbefd' class='xr-var-data-in' type='checkbox'><label for='data-5dbb6449-1d09-4ab2-97d7-b660a11cbefd' title='Show/Hide data repr'><svg class='icon xr-icon-database'><use xlink:href='#icon-database'></use></svg></label><div class='xr-var-attrs'><dl class='xr-attrs'><dt><span>axis :</span></dt><dd>T</dd><dt><span>long_name :</span></dt><dd>time</dd><dt><span>standard_name :</span></dt><dd>time</dd></dl></div><div class='xr-var-data'><pre>array([&#x27;1960-01-01T12:00:00.000000000&#x27;, &#x27;1960-01-02T12:00:00.000000000&#x27;,\n",
       "       &#x27;1960-01-03T12:00:00.000000000&#x27;, ..., &#x27;2100-12-29T12:00:00.000000000&#x27;,\n",
       "       &#x27;2100-12-30T12:00:00.000000000&#x27;, &#x27;2100-12-31T12:00:00.000000000&#x27;],\n",
       "      dtype=&#x27;datetime64[ns]&#x27;)</pre></div></li><li class='xr-var-item'><div class='xr-var-name'><span class='xr-has-index'>lat</span></div><div class='xr-var-dims'>(lat)</div><div class='xr-var-dtype'>float64</div><div class='xr-var-preview xr-preview'>-89.38 -88.12 ... 88.12 89.38</div><input id='attrs-e5b882ed-c683-43a3-baed-20aa184c891f' class='xr-var-attrs-in' type='checkbox' ><label for='attrs-e5b882ed-c683-43a3-baed-20aa184c891f' title='Show/Hide attributes'><svg class='icon xr-icon-file-text2'><use xlink:href='#icon-file-text2'></use></svg></label><input id='data-7b7cf505-c128-4841-ab70-9a2799ed88e2' class='xr-var-data-in' type='checkbox'><label for='data-7b7cf505-c128-4841-ab70-9a2799ed88e2' title='Show/Hide data repr'><svg class='icon xr-icon-database'><use xlink:href='#icon-database'></use></svg></label><div class='xr-var-attrs'><dl class='xr-attrs'><dt><span>bounds :</span></dt><dd>lat_bnds</dd><dt><span>units :</span></dt><dd>degrees_north</dd><dt><span>axis :</span></dt><dd>Y</dd><dt><span>long_name :</span></dt><dd>Latitude</dd><dt><span>standard_name :</span></dt><dd>latitude</dd></dl></div><div class='xr-var-data'><pre>array([-89.375, -88.125, -86.875, -85.625, -84.375, -83.125, -81.875, -80.625,\n",
       "       -79.375, -78.125, -76.875, -75.625, -74.375, -73.125, -71.875, -70.625,\n",
       "       -69.375, -68.125, -66.875, -65.625, -64.375, -63.125, -61.875, -60.625,\n",
       "       -59.375, -58.125, -56.875, -55.625, -54.375, -53.125, -51.875, -50.625,\n",
       "       -49.375, -48.125, -46.875, -45.625, -44.375, -43.125, -41.875, -40.625,\n",
       "       -39.375, -38.125, -36.875, -35.625, -34.375, -33.125, -31.875, -30.625,\n",
       "       -29.375, -28.125, -26.875, -25.625, -24.375, -23.125, -21.875, -20.625,\n",
       "       -19.375, -18.125, -16.875, -15.625, -14.375, -13.125, -11.875, -10.625,\n",
       "        -9.375,  -8.125,  -6.875,  -5.625,  -4.375,  -3.125,  -1.875,  -0.625,\n",
       "         0.625,   1.875,   3.125,   4.375,   5.625,   6.875,   8.125,   9.375,\n",
       "        10.625,  11.875,  13.125,  14.375,  15.625,  16.875,  18.125,  19.375,\n",
       "        20.625,  21.875,  23.125,  24.375,  25.625,  26.875,  28.125,  29.375,\n",
       "        30.625,  31.875,  33.125,  34.375,  35.625,  36.875,  38.125,  39.375,\n",
       "        40.625,  41.875,  43.125,  44.375,  45.625,  46.875,  48.125,  49.375,\n",
       "        50.625,  51.875,  53.125,  54.375,  55.625,  56.875,  58.125,  59.375,\n",
       "        60.625,  61.875,  63.125,  64.375,  65.625,  66.875,  68.125,  69.375,\n",
       "        70.625,  71.875,  73.125,  74.375,  75.625,  76.875,  78.125,  79.375,\n",
       "        80.625,  81.875,  83.125,  84.375,  85.625,  86.875,  88.125,  89.375])</pre></div></li><li class='xr-var-item'><div class='xr-var-name'><span class='xr-has-index'>lon</span></div><div class='xr-var-dims'>(lon)</div><div class='xr-var-dtype'>float64</div><div class='xr-var-preview xr-preview'>0.9375 2.812 4.688 ... 357.2 359.1</div><input id='attrs-6e62976e-7050-41cc-bd4b-8d9a40b688de' class='xr-var-attrs-in' type='checkbox' ><label for='attrs-6e62976e-7050-41cc-bd4b-8d9a40b688de' title='Show/Hide attributes'><svg class='icon xr-icon-file-text2'><use xlink:href='#icon-file-text2'></use></svg></label><input id='data-77c2d646-0d54-4c7a-8f89-47c28908a033' class='xr-var-data-in' type='checkbox'><label for='data-77c2d646-0d54-4c7a-8f89-47c28908a033' title='Show/Hide data repr'><svg class='icon xr-icon-database'><use xlink:href='#icon-database'></use></svg></label><div class='xr-var-attrs'><dl class='xr-attrs'><dt><span>bounds :</span></dt><dd>lon_bnds</dd><dt><span>units :</span></dt><dd>degrees_east</dd><dt><span>axis :</span></dt><dd>X</dd><dt><span>long_name :</span></dt><dd>Longitude</dd><dt><span>standard_name :</span></dt><dd>longitude</dd></dl></div><div class='xr-var-data'><pre>array([  0.9375,   2.8125,   4.6875,   6.5625,   8.4375,  10.3125,  12.1875,\n",
       "        14.0625,  15.9375,  17.8125,  19.6875,  21.5625,  23.4375,  25.3125,\n",
       "        27.1875,  29.0625,  30.9375,  32.8125,  34.6875,  36.5625,  38.4375,\n",
       "        40.3125,  42.1875,  44.0625,  45.9375,  47.8125,  49.6875,  51.5625,\n",
       "        53.4375,  55.3125,  57.1875,  59.0625,  60.9375,  62.8125,  64.6875,\n",
       "        66.5625,  68.4375,  70.3125,  72.1875,  74.0625,  75.9375,  77.8125,\n",
       "        79.6875,  81.5625,  83.4375,  85.3125,  87.1875,  89.0625,  90.9375,\n",
       "        92.8125,  94.6875,  96.5625,  98.4375, 100.3125, 102.1875, 104.0625,\n",
       "       105.9375, 107.8125, 109.6875, 111.5625, 113.4375, 115.3125, 117.1875,\n",
       "       119.0625, 120.9375, 122.8125, 124.6875, 126.5625, 128.4375, 130.3125,\n",
       "       132.1875, 134.0625, 135.9375, 137.8125, 139.6875, 141.5625, 143.4375,\n",
       "       145.3125, 147.1875, 149.0625, 150.9375, 152.8125, 154.6875, 156.5625,\n",
       "       158.4375, 160.3125, 162.1875, 164.0625, 165.9375, 167.8125, 169.6875,\n",
       "       171.5625, 173.4375, 175.3125, 177.1875, 179.0625, 180.9375, 182.8125,\n",
       "       184.6875, 186.5625, 188.4375, 190.3125, 192.1875, 194.0625, 195.9375,\n",
       "       197.8125, 199.6875, 201.5625, 203.4375, 205.3125, 207.1875, 209.0625,\n",
       "       210.9375, 212.8125, 214.6875, 216.5625, 218.4375, 220.3125, 222.1875,\n",
       "       224.0625, 225.9375, 227.8125, 229.6875, 231.5625, 233.4375, 235.3125,\n",
       "       237.1875, 239.0625, 240.9375, 242.8125, 244.6875, 246.5625, 248.4375,\n",
       "       250.3125, 252.1875, 254.0625, 255.9375, 257.8125, 259.6875, 261.5625,\n",
       "       263.4375, 265.3125, 267.1875, 269.0625, 270.9375, 272.8125, 274.6875,\n",
       "       276.5625, 278.4375, 280.3125, 282.1875, 284.0625, 285.9375, 287.8125,\n",
       "       289.6875, 291.5625, 293.4375, 295.3125, 297.1875, 299.0625, 300.9375,\n",
       "       302.8125, 304.6875, 306.5625, 308.4375, 310.3125, 312.1875, 314.0625,\n",
       "       315.9375, 317.8125, 319.6875, 321.5625, 323.4375, 325.3125, 327.1875,\n",
       "       329.0625, 330.9375, 332.8125, 334.6875, 336.5625, 338.4375, 340.3125,\n",
       "       342.1875, 344.0625, 345.9375, 347.8125, 349.6875, 351.5625, 353.4375,\n",
       "       355.3125, 357.1875, 359.0625])</pre></div></li></ul></div></li><li class='xr-section-item'><input id='section-fc9a51a2-1a07-472e-9c3d-9d5dc58d2b3c' class='xr-section-summary-in' type='checkbox'  checked><label for='section-fc9a51a2-1a07-472e-9c3d-9d5dc58d2b3c' class='xr-section-summary' >Data variables: <span>(3)</span></label><div class='xr-section-inline-details'></div><div class='xr-section-details'><ul class='xr-var-list'><li class='xr-var-item'><div class='xr-var-name'><span>lat_bnds</span></div><div class='xr-var-dims'>(time, lat, bnds)</div><div class='xr-var-dtype'>float64</div><div class='xr-var-preview xr-preview'>-90.0 -88.75 -88.75 ... 88.75 90.0</div><input id='attrs-b903171f-9df8-4ba5-a601-181c3f2596d1' class='xr-var-attrs-in' type='checkbox' disabled><label for='attrs-b903171f-9df8-4ba5-a601-181c3f2596d1' title='Show/Hide attributes'><svg class='icon xr-icon-file-text2'><use xlink:href='#icon-file-text2'></use></svg></label><input id='data-811a00ce-e7b9-4084-901f-b3cd885f8568' class='xr-var-data-in' type='checkbox'><label for='data-811a00ce-e7b9-4084-901f-b3cd885f8568' title='Show/Hide data repr'><svg class='icon xr-icon-database'><use xlink:href='#icon-database'></use></svg></label><div class='xr-var-attrs'><dl class='xr-attrs'></dl></div><div class='xr-var-data'><pre>array([[[-90.  , -88.75],\n",
       "        [-88.75, -87.5 ],\n",
       "        [-87.5 , -86.25],\n",
       "        ...,\n",
       "        [ 86.25,  87.5 ],\n",
       "        [ 87.5 ,  88.75],\n",
       "        [ 88.75,  90.  ]],\n",
       "\n",
       "       [[-90.  , -88.75],\n",
       "        [-88.75, -87.5 ],\n",
       "        [-87.5 , -86.25],\n",
       "        ...,\n",
       "        [ 86.25,  87.5 ],\n",
       "        [ 87.5 ,  88.75],\n",
       "        [ 88.75,  90.  ]],\n",
       "\n",
       "       [[-90.  , -88.75],\n",
       "        [-88.75, -87.5 ],\n",
       "        [-87.5 , -86.25],\n",
       "        ...,\n",
       "...\n",
       "        ...,\n",
       "        [ 86.25,  87.5 ],\n",
       "        [ 87.5 ,  88.75],\n",
       "        [ 88.75,  90.  ]],\n",
       "\n",
       "       [[-90.  , -88.75],\n",
       "        [-88.75, -87.5 ],\n",
       "        [-87.5 , -86.25],\n",
       "        ...,\n",
       "        [ 86.25,  87.5 ],\n",
       "        [ 87.5 ,  88.75],\n",
       "        [ 88.75,  90.  ]],\n",
       "\n",
       "       [[-90.  , -88.75],\n",
       "        [-88.75, -87.5 ],\n",
       "        [-87.5 , -86.25],\n",
       "        ...,\n",
       "        [ 86.25,  87.5 ],\n",
       "        [ 87.5 ,  88.75],\n",
       "        [ 88.75,  90.  ]]])</pre></div></li><li class='xr-var-item'><div class='xr-var-name'><span>lon_bnds</span></div><div class='xr-var-dims'>(time, lon, bnds)</div><div class='xr-var-dtype'>float64</div><div class='xr-var-preview xr-preview'>0.0 1.875 1.875 ... 358.1 360.0</div><input id='attrs-56091b05-3d2b-4e3e-820e-81d75c8d0e77' class='xr-var-attrs-in' type='checkbox' disabled><label for='attrs-56091b05-3d2b-4e3e-820e-81d75c8d0e77' title='Show/Hide attributes'><svg class='icon xr-icon-file-text2'><use xlink:href='#icon-file-text2'></use></svg></label><input id='data-a1e10428-f38e-4e79-9c98-f53218a67cd4' class='xr-var-data-in' type='checkbox'><label for='data-a1e10428-f38e-4e79-9c98-f53218a67cd4' title='Show/Hide data repr'><svg class='icon xr-icon-database'><use xlink:href='#icon-database'></use></svg></label><div class='xr-var-attrs'><dl class='xr-attrs'></dl></div><div class='xr-var-data'><pre>array([[[  0.   ,   1.875],\n",
       "        [  1.875,   3.75 ],\n",
       "        [  3.75 ,   5.625],\n",
       "        ...,\n",
       "        [354.375, 356.25 ],\n",
       "        [356.25 , 358.125],\n",
       "        [358.125, 360.   ]],\n",
       "\n",
       "       [[  0.   ,   1.875],\n",
       "        [  1.875,   3.75 ],\n",
       "        [  3.75 ,   5.625],\n",
       "        ...,\n",
       "        [354.375, 356.25 ],\n",
       "        [356.25 , 358.125],\n",
       "        [358.125, 360.   ]],\n",
       "\n",
       "       [[  0.   ,   1.875],\n",
       "        [  1.875,   3.75 ],\n",
       "        [  3.75 ,   5.625],\n",
       "        ...,\n",
       "...\n",
       "        ...,\n",
       "        [354.375, 356.25 ],\n",
       "        [356.25 , 358.125],\n",
       "        [358.125, 360.   ]],\n",
       "\n",
       "       [[  0.   ,   1.875],\n",
       "        [  1.875,   3.75 ],\n",
       "        [  3.75 ,   5.625],\n",
       "        ...,\n",
       "        [354.375, 356.25 ],\n",
       "        [356.25 , 358.125],\n",
       "        [358.125, 360.   ]],\n",
       "\n",
       "       [[  0.   ,   1.875],\n",
       "        [  1.875,   3.75 ],\n",
       "        [  3.75 ,   5.625],\n",
       "        ...,\n",
       "        [354.375, 356.25 ],\n",
       "        [356.25 , 358.125],\n",
       "        [358.125, 360.   ]]])</pre></div></li><li class='xr-var-item'><div class='xr-var-name'><span>toz</span></div><div class='xr-var-dims'>(time, lat, lon)</div><div class='xr-var-dtype'>float32</div><div class='xr-var-preview xr-preview'>0.003163 0.003164 ... 0.005004</div><input id='attrs-f76b37cb-f29b-42fe-abf2-8d479ac8ce1e' class='xr-var-attrs-in' type='checkbox' ><label for='attrs-f76b37cb-f29b-42fe-abf2-8d479ac8ce1e' title='Show/Hide attributes'><svg class='icon xr-icon-file-text2'><use xlink:href='#icon-file-text2'></use></svg></label><input id='data-161d874a-9b74-4b86-8180-9f1f078bb175' class='xr-var-data-in' type='checkbox'><label for='data-161d874a-9b74-4b86-8180-9f1f078bb175' title='Show/Hide data repr'><svg class='icon xr-icon-database'><use xlink:href='#icon-database'></use></svg></label><div class='xr-var-attrs'><dl class='xr-attrs'><dt><span>standard_name :</span></dt><dd>equivalent_thickness_at_stp_of_atmosphere_ozone_content</dd><dt><span>long_name :</span></dt><dd>Total Column Ozone</dd><dt><span>comment :</span></dt><dd>Total ozone column calculated at 0 degrees C and 1 bar, such that 1m = 1e5 DU.</dd><dt><span>units :</span></dt><dd>m</dd><dt><span>cell_methods :</span></dt><dd>area: mean time: point</dd><dt><span>cell_measures :</span></dt><dd>area: areacella</dd></dl></div><div class='xr-var-data'><pre>array([[[0.00316332, 0.00316365, 0.00316396, ..., 0.00316269,\n",
       "         0.00316302, 0.00316364],\n",
       "        [0.00316808, 0.00317046, 0.00317293, ..., 0.00316129,\n",
       "         0.00316333, 0.00316543],\n",
       "        [0.00315113, 0.00315621, 0.00316143, ..., 0.00313711,\n",
       "         0.00314148, 0.00314617],\n",
       "        ...,\n",
       "        [0.00358528, 0.00358041, 0.00357533, ..., 0.00359891,\n",
       "         0.00359455, 0.00358999],\n",
       "        [0.00354198, 0.00353898, 0.00353597, ..., 0.00355093,\n",
       "         0.00354796, 0.00354498],\n",
       "        [0.00351405, 0.00351343, 0.00351282, ..., 0.00351602,\n",
       "         0.00351535, 0.0035147 ]],\n",
       "\n",
       "       [[0.00330269, 0.00330401, 0.00330531, ..., 0.003299  ,\n",
       "         0.00330029, 0.00330192],\n",
       "        [0.00333318, 0.00333704, 0.00334086, ..., 0.0033213 ,\n",
       "         0.00332521, 0.00332899],\n",
       "        [0.00335125, 0.00335816, 0.00336488, ..., 0.00332995,\n",
       "         0.00333707, 0.00334417],\n",
       "...\n",
       "        [0.00477266, 0.00476822, 0.00476423, ..., 0.00478875,\n",
       "         0.00478264, 0.00477741],\n",
       "        [0.00490935, 0.00490557, 0.00490195, ..., 0.0049219 ,\n",
       "         0.00491727, 0.00491313],\n",
       "        [0.0050242 , 0.00502201, 0.00501989, ..., 0.00503152,\n",
       "         0.00502908, 0.00502666]],\n",
       "\n",
       "       [[0.00357622, 0.00357691, 0.00357744, ..., 0.00357595,\n",
       "         0.00357613, 0.00357651],\n",
       "        [0.00360329, 0.00360407, 0.00360509, ..., 0.00360079,\n",
       "         0.00360126, 0.0036021 ],\n",
       "        [0.00358293, 0.00358338, 0.00358359, ..., 0.00358084,\n",
       "         0.00358163, 0.00358229],\n",
       "        ...,\n",
       "        [0.00473665, 0.00473222, 0.0047291 , ..., 0.0047591 ,\n",
       "         0.00475017, 0.00474259],\n",
       "        [0.00488281, 0.00488024, 0.00487746, ..., 0.00488768,\n",
       "         0.00488648, 0.00488492],\n",
       "        [0.00500315, 0.00500255, 0.00500207, ..., 0.00500531,\n",
       "         0.00500452, 0.0050038 ]]], dtype=float32)</pre></div></li></ul></div></li><li class='xr-section-item'><input id='section-a7959e40-14e2-4c79-9dc4-7afd9d6c87e3' class='xr-section-summary-in' type='checkbox'  ><label for='section-a7959e40-14e2-4c79-9dc4-7afd9d6c87e3' class='xr-section-summary' >Indexes: <span>(3)</span></label><div class='xr-section-inline-details'></div><div class='xr-section-details'><ul class='xr-var-list'><li class='xr-var-item'><div class='xr-index-name'><div>time</div></div><div class='xr-index-preview'>PandasIndex</div><div></div><input id='index-3a972006-1c10-406d-8cbb-3f6153933551' class='xr-index-data-in' type='checkbox'/><label for='index-3a972006-1c10-406d-8cbb-3f6153933551' title='Show/Hide index repr'><svg class='icon xr-icon-database'><use xlink:href='#icon-database'></use></svg></label><div class='xr-index-data'><pre>PandasIndex(DatetimeIndex([&#x27;1960-01-01 12:00:00&#x27;, &#x27;1960-01-02 12:00:00&#x27;,\n",
       "               &#x27;1960-01-03 12:00:00&#x27;, &#x27;1960-01-04 12:00:00&#x27;,\n",
       "               &#x27;1960-01-05 12:00:00&#x27;, &#x27;1960-01-06 12:00:00&#x27;,\n",
       "               &#x27;1960-01-07 12:00:00&#x27;, &#x27;1960-01-08 12:00:00&#x27;,\n",
       "               &#x27;1960-01-09 12:00:00&#x27;, &#x27;1960-01-10 12:00:00&#x27;,\n",
       "               ...\n",
       "               &#x27;2100-12-22 12:00:00&#x27;, &#x27;2100-12-23 12:00:00&#x27;,\n",
       "               &#x27;2100-12-24 12:00:00&#x27;, &#x27;2100-12-25 12:00:00&#x27;,\n",
       "               &#x27;2100-12-26 12:00:00&#x27;, &#x27;2100-12-27 12:00:00&#x27;,\n",
       "               &#x27;2100-12-28 12:00:00&#x27;, &#x27;2100-12-29 12:00:00&#x27;,\n",
       "               &#x27;2100-12-30 12:00:00&#x27;, &#x27;2100-12-31 12:00:00&#x27;],\n",
       "              dtype=&#x27;datetime64[ns]&#x27;, name=&#x27;time&#x27;, length=51500, freq=None))</pre></div></li><li class='xr-var-item'><div class='xr-index-name'><div>lat</div></div><div class='xr-index-preview'>PandasIndex</div><div></div><input id='index-2b2bef35-14d3-4d8f-9492-2027795b0ef7' class='xr-index-data-in' type='checkbox'/><label for='index-2b2bef35-14d3-4d8f-9492-2027795b0ef7' title='Show/Hide index repr'><svg class='icon xr-icon-database'><use xlink:href='#icon-database'></use></svg></label><div class='xr-index-data'><pre>PandasIndex(Index([-89.375, -88.125, -86.875, -85.625, -84.375, -83.125, -81.875, -80.625,\n",
       "       -79.375, -78.125,\n",
       "       ...\n",
       "        78.125,  79.375,  80.625,  81.875,  83.125,  84.375,  85.625,  86.875,\n",
       "        88.125,  89.375],\n",
       "      dtype=&#x27;float64&#x27;, name=&#x27;lat&#x27;, length=144))</pre></div></li><li class='xr-var-item'><div class='xr-index-name'><div>lon</div></div><div class='xr-index-preview'>PandasIndex</div><div></div><input id='index-1742cb3f-4167-42ef-ad83-431a7556ee65' class='xr-index-data-in' type='checkbox'/><label for='index-1742cb3f-4167-42ef-ad83-431a7556ee65' title='Show/Hide index repr'><svg class='icon xr-icon-database'><use xlink:href='#icon-database'></use></svg></label><div class='xr-index-data'><pre>PandasIndex(Index([  0.9375,   2.8125,   4.6875,   6.5625,   8.4375,  10.3125,  12.1875,\n",
       "        14.0625,  15.9375,  17.8125,\n",
       "       ...\n",
       "       342.1875, 344.0625, 345.9375, 347.8125, 349.6875, 351.5625, 353.4375,\n",
       "       355.3125, 357.1875, 359.0625],\n",
       "      dtype=&#x27;float64&#x27;, name=&#x27;lon&#x27;, length=192))</pre></div></li></ul></div></li><li class='xr-section-item'><input id='section-70b7b92a-edb2-4986-ad5a-ee75fe193cc8' class='xr-section-summary-in' type='checkbox'  ><label for='section-70b7b92a-edb2-4986-ad5a-ee75fe193cc8' class='xr-section-summary' >Attributes: <span>(45)</span></label><div class='xr-section-inline-details'></div><div class='xr-section-details'><dl class='xr-attrs'><dt><span>Conventions :</span></dt><dd>CF-1.7</dd><dt><span>activity_id :</span></dt><dd>CCMI2022</dd><dt><span>activity_participation :</span></dt><dd>CCMI2022</dd><dt><span>branch_method :</span></dt><dd>standard</dd><dt><span>branch_time_in_child :</span></dt><dd>0.0</dd><dt><span>branch_time_in_parent :</span></dt><dd>0.0</dd><dt><span>cohort :</span></dt><dd>Registered</dd><dt><span>contact :</span></dt><dd>access_csiro@csiro.au</dd><dt><span>creation_date :</span></dt><dd>2022-08-22T02:45:30Z</dd><dt><span>data_specs_version :</span></dt><dd>01.00.00</dd><dt><span>experiment :</span></dt><dd>Baseline projection using CMIP6 SSP2-45 GHGs and precursor emissions with WMO-2018 ODSs</dd><dt><span>experiment_id :</span></dt><dd>refD2</dd><dt><span>external_variables :</span></dt><dd>areacella</dd><dt><span>forcing_index :</span></dt><dd>1</dd><dt><span>frequency :</span></dt><dd>dayPt</dd><dt><span>further_info_url :</span></dt><dd>https://furtherinfo.es-doc.org/CMIP6.CSIRO-ARCCSS.ACCESS-CM2-Chem.refD2.none.r1i1p1f1</dd><dt><span>grid :</span></dt><dd>native atmosphere N96 grid (144x192 latxlon)</dd><dt><span>grid_label :</span></dt><dd>gn</dd><dt><span>history :</span></dt><dd>2022-08-22T02:45:30Z ; CMOR rewrote data to be consistent with CMIP6, CF-1.7 and CF standards.</dd><dt><span>initialization_index :</span></dt><dd>1</dd><dt><span>institution :</span></dt><dd>CSIRO (Commonwealth Scientific and Industrial Research Organisation, Aspendale, Victoria 3195, Australia), ARCCSS (Australian Research Council Centre of Excellence for Climate System Science)</dd><dt><span>institution_id :</span></dt><dd>CSIRO-ARCCSS</dd><dt><span>mip_era :</span></dt><dd>CMIP6</dd><dt><span>nominal_resolution :</span></dt><dd>250 km</dd><dt><span>notes :</span></dt><dd>Local exp ID: ch097; Variable: toz ([&#x27;fld_s50i219&#x27;])</dd><dt><span>parent_experiment_id :</span></dt><dd>no parent</dd><dt><span>physics_index :</span></dt><dd>1</dd><dt><span>product :</span></dt><dd>model-output</dd><dt><span>realization_index :</span></dt><dd>1</dd><dt><span>realm :</span></dt><dd>atmos</dd><dt><span>run_variant :</span></dt><dd>forcing: GHG, Oz, SA, Sl, Vl, BC, OC, (GHG = CO2, N2O, CH4, CFC11, CFC12, CFC113, HCFC22, HFC125, HFC134a)</dd><dt><span>source :</span></dt><dd>ACCESS-CM2-Chem (2020): aerosol: UKCA-GLOMAP-mode atmos: MetUM-HadGEM3-GA7.1 (N96; 192 x 144 longitude/latitude; 85 levels; top level 85 km) atmosChem: UKCA CheST land: CABLE2.5 landIce: none ocean: ACCESS-OM2 (GFDL-MOM5, tripolar primarily 1deg; 360 x 300 longitude/latitude; 50 levels; top grid cell 0-10 m) ocnBgchem: none seaIce: CICE5.1.2 (same grid as ocean)</dd><dt><span>source_id :</span></dt><dd>ACCESS-CM2-Chem</dd><dt><span>source_type :</span></dt><dd>AOGCM CHEM</dd><dt><span>sub_experiment :</span></dt><dd>none</dd><dt><span>sub_experiment_id :</span></dt><dd>none</dd><dt><span>table_id :</span></dt><dd>Aday</dd><dt><span>table_info :</span></dt><dd>Creation Date:(March 26, 2021) MD5:2acf5e4a6a5bd657d18f8ebe0b0d05c4</dd><dt><span>title :</span></dt><dd>ACCESS-CM2-Chem output prepared for CMIP6</dd><dt><span>variable_id :</span></dt><dd>toz</dd><dt><span>variant_label :</span></dt><dd>r1i1p1f1</dd><dt><span>version :</span></dt><dd>v20220822</dd><dt><span>license :</span></dt><dd>CCMI2022 model data produced by CSIRO is licensed under a Creative Commons Attribution-ShareAlike 4.0 International License (https://creativecommons.org/licenses). Consult http://blogs.reading.ac.uk/ccmi/ for terms of use governing CCMI output, including citation requirements and proper acknowledgment. The data producers and data providers make no warranty, either express or implied, including, but not limited to, warranties of merchantability and fitness for a particular purpose. All liabilities arising from the supply of the information (including any liability arising in negligence) are excluded to the fullest extent permitted by law.</dd><dt><span>cmor_version :</span></dt><dd>3.4.0</dd><dt><span>tracking_id :</span></dt><dd>hdl:21.14100/c172e59b-9c50-44be-836c-6c44dd9a8e40</dd></dl></div></li></ul></div></div>"
      ],
      "text/plain": [
       "<xarray.Dataset> Size: 6GB\n",
       "Dimensions:   (time: 51500, lat: 144, bnds: 2, lon: 192)\n",
       "Coordinates:\n",
       "  * time      (time) datetime64[ns] 412kB 1960-01-01T12:00:00 ... 2100-12-31T...\n",
       "  * lat       (lat) float64 1kB -89.38 -88.12 -86.88 ... 86.88 88.12 89.38\n",
       "  * lon       (lon) float64 2kB 0.9375 2.812 4.688 6.562 ... 355.3 357.2 359.1\n",
       "Dimensions without coordinates: bnds\n",
       "Data variables:\n",
       "    lat_bnds  (time, lat, bnds) float64 119MB -90.0 -88.75 -88.75 ... 88.75 90.0\n",
       "    lon_bnds  (time, lon, bnds) float64 158MB 0.0 1.875 1.875 ... 358.1 360.0\n",
       "    toz       (time, lat, lon) float32 6GB 0.003163 0.003164 ... 0.005004\n",
       "Attributes: (12/45)\n",
       "    Conventions:             CF-1.7\n",
       "    activity_id:             CCMI2022\n",
       "    activity_participation:  CCMI2022\n",
       "    branch_method:           standard\n",
       "    branch_time_in_child:    0.0\n",
       "    branch_time_in_parent:   0.0\n",
       "    ...                      ...\n",
       "    variable_id:             toz\n",
       "    variant_label:           r1i1p1f1\n",
       "    version:                 v20220822\n",
       "    license:                 CCMI2022 model data produced by CSIRO is license...\n",
       "    cmor_version:            3.4.0\n",
       "    tracking_id:             hdl:21.14100/c172e59b-9c50-44be-836c-6c44dd9a8e40"
      ]
     },
     "execution_count": 2,
     "metadata": {},
     "output_type": "execute_result"
    }
   ],
   "source": [
    "datadir = '/g/data/p73/archive/non-CMIP/CMORised/CCMI2022/CSIRO-ARCCSS/ACCESS-CM2-Chem/refD2/r1i1p1f1/Aday/toz/gn/v20220822/'\n",
    "files = sorted(glob.glob(datadir + \"*.nc\"))\n",
    "ds = xr.open_mfdataset(files, combine='nested', concat_dim=\"time\")\n",
    "for f in files:\n",
    "    print(f)\n",
    "ds.load()"
   ]
  },
  {
   "cell_type": "markdown",
   "id": "d99ca74c-18ff-4fd2-a070-f48f6d5d9ab6",
   "metadata": {},
   "source": [
    "## Calculating Grid Cell Area\n",
    "Below we are using the Haversine formula to get the approximate area of each grid cell."
   ]
  },
  {
   "cell_type": "code",
   "execution_count": 3,
   "id": "012b66e2-f22c-44de-b026-719ce93c2989",
   "metadata": {},
   "outputs": [],
   "source": [
    "def gridsize(lat1,lon_inc):\n",
    "    #https://en.wikipedia.org/wiki/Haversine_formula\n",
    "    #https://stackoverflow.com/questions/639695/how-to-convert-latitude-or-longitude-to-meters/11172685#11172685\n",
    "    lon1=200\n",
    "    lat2=lat1\n",
    "    lon2=lon1+lon_inc\n",
    "\n",
    "    R = 6378.137 # // Radius of earth in km\n",
    "    dLat = lat2 * np.pi / 180 - lat1 * np.pi / 180\n",
    "    dLon = lon2 * np.pi / 180 - lon1 * np.pi / 180\n",
    "    a = np.sin(dLat/2) * np.sin(dLat/2) + np.cos(lat1 * np.pi / 180) * np.cos(lat2 * np.pi / 180) * np.sin(dLon/2) * np.sin(dLon/2)\n",
    "    c = 2 * np.arctan2(np.sqrt(a), np.sqrt(1-a))\n",
    "    d = R * c\n",
    "    return d * 1000 #; // meters\n",
    "\n",
    "#Modified to use lat/lon grid from our data - first get min,max,inc\n",
    "lats = (float(ds['lat'].min()), float(ds['lat'].max()), float(ds['lat'][1]- ds['lat'][0]))\n",
    "lons = (float(ds['lon'].min()), float(ds['lon'].max()), float(ds['lon'][1]- ds['lon'][0]))\n",
    "\n",
    "#Need to add a tiny amount to end of range\n",
    "mgrid = np.meshgrid(np.arange(lons[0],lons[1]+0.0000001,lons[2]),\n",
    "                    np.arange(lats[0],lats[1]+0.0000001,lats[2]))\n",
    "\n",
    "boxlo,boxla=np.array(mgrid)\n",
    "grid=gridsize(boxla,lons[2])\n",
    "grid_nc = xr.DataArray(grid,coords={'lat':boxla[:,1],'lon':boxlo[1,:]},dims=['lat','lon'])\n",
    "\n",
    "#At the equator for longitude and for latitude anywhere, the following approximations are valid:\n",
    "#1deg ~= 111km = 111000m\n",
    "lat_size=110567 * lats[2] #in m - size of 1 degree\n",
    "grid_nc['m2'] = grid_nc * lat_size\n",
    "grid_nc = grid_nc['m2']\n"
   ]
  },
  {
   "cell_type": "markdown",
   "id": "19ab2acb-c7c7-4b03-91ad-bcb7dcd5307b",
   "metadata": {},
   "source": [
    "Sanity check: grid squares should be smaller near the poles"
   ]
  },
  {
   "cell_type": "code",
   "execution_count": 4,
   "id": "df5ebafe-3b2d-4cab-b459-d3274876b728",
   "metadata": {},
   "outputs": [
    {
     "data": {
      "image/png": "[encoded data removed]",
      "text/plain": [
       "<Figure size 640x480 with 2 Axes>"
      ]
     },
     "metadata": {},
     "output_type": "display_data"
    }
   ],
   "source": [
    "fig, ax = plt.subplots()\n",
    "c = ax.pcolormesh(grid_nc['lon'], grid_nc['lat'], grid_nc['m2'])\n",
    "fig.colorbar(c, ax=ax)\n",
    "plt.show()"
   ]
  },
  {
   "cell_type": "markdown",
   "id": "53ba1802-76a9-4df9-857b-1597bc1c9265",
   "metadata": {},
   "source": [
    "Sanity check: Earth's surface area: 510.1 million km²"
   ]
  },
  {
   "cell_type": "code",
   "execution_count": 5,
   "id": "20801e2a-38db-46c3-b4f2-17a6e42f0bda",
   "metadata": {},
   "outputs": [
    {
     "name": "stdout",
     "output_type": "stream",
     "text": [
      "507754777894792.0 m\n",
      "507754777.89479196 km²\n",
      "507.7547778947919 million km²\n",
      "Error 0.46%\n"
     ]
    }
   ],
   "source": [
    "earth_sa = 510.1\n",
    "m2 = np.array(grid_nc['m2']).sum()\n",
    "km2 = 1e-6 * m2\n",
    "Mkm2 = 1e-6 * km2\n",
    "error = abs(earth_sa - Mkm2)\n",
    "print(f\"{m2} m\\n{km2} km²\\n{Mkm2} million km²\\nError {round(error / Mkm2 * 100, 2)}%\")\n",
    "#Check within ~1% tolerance\n",
    "assert(error < (earth_sa * 0.01))"
   ]
  },
  {
   "cell_type": "markdown",
   "id": "66104d05-ff28-4ce3-808b-8ef214896285",
   "metadata": {},
   "source": [
    "## Daily Ozone Hole Area\n",
    "* We make a mask of the ozone hole - A cell is a part of the ozone hole when it is at 220 Dobson units or lower.\n",
    "* We multiply this by the area of each cell and sum to get the total area of the hole.\n",
    "* We adjust units for readability."
   ]
  },
  {
   "cell_type": "code",
   "execution_count": 6,
   "id": "00bb87d9-df4f-4394-8427-2a8d7bcefff8",
   "metadata": {},
   "outputs": [],
   "source": [
    "def get_hole_all_time(threshold=220*1e-5):\n",
    "    below = ds['toz'] < threshold # Finding cells in of the ozone hole \n",
    "    hole_area = grid_nc['m2'] * below\n",
    "    m2 = hole_area.sum(dim=('lat', 'lon')) # Total Area\n",
    "    km2 = 1e-6 * m2\n",
    "    Mkm2 = 1e-6 * km2\n",
    "\n",
    "    return Mkm2\n",
    "\n",
    "hole_size_daily = get_hole_all_time()"
   ]
  },
  {
   "cell_type": "markdown",
   "id": "f85d6d36-d567-4e42-aa1e-ad4708dfdaa5",
   "metadata": {},
   "source": [
    "## Annual Maximum Ozone Hole Area\n",
    "Below we calculate the maximum hole area each year and plot this"
   ]
  },
  {
   "cell_type": "code",
   "execution_count": 7,
   "id": "41a964c9-94ab-4771-afcf-5a61a7249252",
   "metadata": {},
   "outputs": [
    {
     "data": {
      "text/plain": [
       "<matplotlib.collections.PathCollection at 0x1475cf6760e0>"
      ]
     },
     "execution_count": 7,
     "metadata": {},
     "output_type": "execute_result"
    },
    {
     "data": {
      "image/png": "[encoded data removed]",
      "text/plain": [
       "<Figure size 640x480 with 1 Axes>"
      ]
     },
     "metadata": {},
     "output_type": "display_data"
    }
   ],
   "source": [
    "max_hole_size = hole_size_daily.groupby('time.year').max()\n",
    "max_hole_size.plot.scatter()"
   ]
  },
  {
   "cell_type": "markdown",
   "id": "3e218d98-cfa9-4b79-9934-2a86fee6b23a",
   "metadata": {},
   "source": [
    "## Calculating the Specific Date When Annual Maximum Occurs"
   ]
  },
  {
   "cell_type": "code",
   "execution_count": 8,
   "id": "56d9482a-24c3-4e74-afd2-a163164f63b5",
   "metadata": {
    "scrolled": true
   },
   "outputs": [
    {
     "data": {
      "application/vnd.jupyter.widget-view+json": {
       "model_id": "93e5535b3aca4cf6a3d2359c9a7d6f26",
       "version_major": 2,
       "version_minor": 0
      },
      "text/plain": [
       "  0%|          | 0/141 [00:00<?, ?it/s]"
      ]
     },
     "metadata": {},
     "output_type": "display_data"
    }
   ],
   "source": [
    "max_hole_size_date = {}\n",
    "\n",
    "for i in tqdm(max_hole_size):\n",
    "    filter_by_year = hole_size_daily.sel(time=hole_size_daily.time.time.dt.year == i.year)\n",
    "    diffs = np.abs(filter_by_year.values - np.array(i))\n",
    "    nearest_index = diffs.argmin()\n",
    "    max_date = filter_by_year.time[nearest_index].values\n",
    "\n",
    "    max_hole_size_date[int(i.year)] = max_date"
   ]
  },
  {
   "cell_type": "markdown",
   "id": "38b013de-f59d-4311-8d6a-6aff35e1e18f",
   "metadata": {},
   "source": [
    "## Animation of the Annual Maximum Ozone Hole\n",
    "We iterate through all years, plotting the largest ozone hole for that year."
   ]
  },
  {
   "cell_type": "code",
   "execution_count": 9,
   "id": "76d29bf9-01d9-4212-8d72-bdc03ca43f4f",
   "metadata": {},
   "outputs": [
    {
     "name": "stdout",
     "output_type": "stream",
     "text": [
      "Low-res 2K - fast for testing\n",
      "Mid-res 4K - good enough for full earth views\n",
      "High res 8K - better if showing close up at country scale\n",
      "Ultra-high 16K - max detail but requires a fast GPU with high memory\n"
     ]
    },
    {
     "data": {
      "application/vnd.jupyter.widget-view+json": {
       "model_id": "2ce42bd4964f4d68b5177c63dbb587d9",
       "version_major": 2,
       "version_minor": 0
      },
      "text/plain": [
       "Dropdown(description='Detail:', options=(('Low-res 2K', 1), ('Mid-res 4K', 2), ('High-res 8K', 3), ('Ultra-hig…"
      ]
     },
     "execution_count": 9,
     "metadata": {},
     "output_type": "execute_result"
    }
   ],
   "source": [
    "accessvis.resolution_selection(default=1)"
   ]
  },
  {
   "cell_type": "code",
   "execution_count": 10,
   "id": "d070215f-398d-42a4-84dd-c022a4a065e3",
   "metadata": {},
   "outputs": [
    {
     "name": "stdout",
     "output_type": "stream",
     "text": [
      "/home/198/mp7041/ozone.mp4\n"
     ]
    }
   ],
   "source": [
    "lv = accessvis.plot_earth(texture='bluemarble', background=\"white\", vertical_exaggeration=20)\n",
    "lv.set_properties(diffuse=0.6, ambient=0.85, specular=0.25, shininess=0.03, light=[1,1,0.98,1], lightpos=[0,0,10000,1])\n",
    "lv.reset()\n",
    "lv.rotate('x',-90)\n",
    "\n",
    "threshold = 220e-5 #220 DU threshold converted to M\n",
    "\n",
    "filename = os.path.abspath('ozone.mp4')\n",
    "print(filename)"
   ]
  },
  {
   "cell_type": "markdown",
   "id": "8d8656c8-3510-423a-9901-615b1ae63ec5",
   "metadata": {},
   "source": [
    "#### Plotting the hole itself"
   ]
  },
  {
   "cell_type": "code",
   "execution_count": 11,
   "id": "09872b29-254d-4fb5-8f06-e5c25e10bf52",
   "metadata": {
    "scrolled": true
   },
   "outputs": [
    {
     "name": "stderr",
     "output_type": "stream",
     "text": [
      "Output #0, mp4, to '/home/198/mp7041/ozone.mp4':\n",
      "  Stream #0:0: Unknown: none\n"
     ]
    },
    {
     "data": {
      "application/vnd.jupyter.widget-view+json": {
       "model_id": "962d8c11721645a981c994330f9b46fe",
       "version_major": 2,
       "version_minor": 0
      },
      "text/plain": [
       "  0%|          | 0/141 [00:00<?, ?it/s]"
      ]
     },
     "metadata": {},
     "output_type": "display_data"
    },
    {
     "data": {
      "text/html": [
       "<video src=\"ozone.mp4\" id='video_e1349f30' autoplay  width=\"600\"  height=\"600\">\n",
       "      Your browser does not support the <code>video</code> element.\n",
       "    </video>"
      ],
      "text/plain": [
       "<IPython.core.display.Video object>"
      ]
     },
     "metadata": {},
     "output_type": "display_data"
    },
    {
     "data": {
      "text/html": [
       "<a id=\"link_video_e1349f30\" href=\"/home/198/mp7041/ozone.mp4\" download>Download Video</a>"
      ],
      "text/plain": [
       "<IPython.core.display.HTML object>"
      ]
     },
     "metadata": {},
     "output_type": "display_data"
    },
    {
     "data": {
      "application/javascript": [
       "\n",
       "        let el = document.getElementById('video_e1349f30');\n",
       "        let url = el.src;\n",
       "        fetch(url, {method: 'HEAD'}).then(response=>{\n",
       "          if(response.status == 404) {\n",
       "            console.log(\"Bad video url: \" + url);\n",
       "            let toppath = \"/files/home/\"\n",
       "            let baseurl = url.substring(0, url.indexOf(toppath)+toppath.length);\n",
       "            let endurl = url.substring(url.indexOf(\"/home/198/mp7041/ozone.mp4\"));\n",
       "            let fixed = baseurl + endurl;\n",
       "            console.log(\"Replaced video url: \" + fixed);\n",
       "            el.src = fixed;\n",
       "            //Also fix download link\n",
       "            document.getElementById('link_video_e1349f30').href = fixed;\n",
       "          }\n",
       "        });\n",
       "        "
      ],
      "text/plain": [
       "<IPython.core.display.Javascript object>"
      ]
     },
     "metadata": {},
     "output_type": "display_data"
    }
   ],
   "source": [
    "with lv.video(filename=filename, quality=4, resolution=(600,600), width=600, height=600, params=\"autoplay\") as v:\n",
    "    for year, date in tqdm(sorted(max_hole_size_date.items())):\n",
    "        timepoint = ds['toz'].sel(time=date, method='nearest')\n",
    "\n",
    "        hole_mask =  (0.9*(timepoint<threshold)).to_numpy()\n",
    "        \n",
    "        colours = accessvis.array_to_rgba(hole_mask, colourmap='coolwarm', flip=True, opacitymap=hole_mask)\n",
    "        accessvis.update_earth_values(lv, dataMode=0, data=colours)\n",
    "        \n",
    "        lv.title(f'Ozone - {year}')\n",
    "        lv.render()"
   ]
  },
  {
   "cell_type": "markdown",
   "id": "50e5e74f-297f-4c2d-beb3-b8733f5b3713",
   "metadata": {},
   "source": [
    "#### Plotting the Ozone Concentration"
   ]
  },
  {
   "cell_type": "code",
   "execution_count": 12,
   "id": "1b78a558-e833-467f-ba05-568972b83035",
   "metadata": {},
   "outputs": [
    {
     "data": {
      "text/plain": [
       "'/home/198/mp7041/ozone2.mp4'"
      ]
     },
     "execution_count": 12,
     "metadata": {},
     "output_type": "execute_result"
    }
   ],
   "source": [
    "lv = accessvis.plot_earth(texture='bluemarble', background=\"white\", vertical_exaggeration=20)\n",
    "lv.set_properties(diffuse=0.6, ambient=0.85, specular=0.25, shininess=0.03, light=[1,1,0.98,1], lightpos=[0,0,10000,1])\n",
    "lv.reset()\n",
    "lv.rotate('x',-90)\n",
    "threshold = 220 * 1e-5 #220 DU threshold converted to M\n",
    "\n",
    "colourmap='plasma'\n",
    "cmap = lv.colourmap(colourmap, range=(100e-5, 550e-5))\n",
    "cb = lv.colourbar()\n",
    "\n",
    "filename = os.path.abspath('ozone2.mp4')\n",
    "filename"
   ]
  },
  {
   "cell_type": "code",
   "execution_count": 13,
   "id": "f4d886d5-9b07-4cb5-835e-6d25db6c23b9",
   "metadata": {},
   "outputs": [
    {
     "data": {
      "application/vnd.jupyter.widget-view+json": {
       "model_id": "75cdb6d5ef984ea9b86dfb8561d413e0",
       "version_major": 2,
       "version_minor": 0
      },
      "text/plain": [
       "  0%|          | 0/141 [00:00<?, ?it/s]"
      ]
     },
     "metadata": {},
     "output_type": "display_data"
    },
    {
     "data": {
      "text/html": [
       "<video src=\"ozone2.mp4\" id='video_acdaf30b' autoplay  width=\"600\"  height=\"600\">\n",
       "      Your browser does not support the <code>video</code> element.\n",
       "    </video>"
      ],
      "text/plain": [
       "<IPython.core.display.Video object>"
      ]
     },
     "metadata": {},
     "output_type": "display_data"
    },
    {
     "data": {
      "text/html": [
       "<a id=\"link_video_acdaf30b\" href=\"/home/198/mp7041/ozone2.mp4\" download>Download Video</a>"
      ],
      "text/plain": [
       "<IPython.core.display.HTML object>"
      ]
     },
     "metadata": {},
     "output_type": "display_data"
    },
    {
     "data": {
      "application/javascript": [
       "\n",
       "        let el = document.getElementById('video_acdaf30b');\n",
       "        let url = el.src;\n",
       "        fetch(url, {method: 'HEAD'}).then(response=>{\n",
       "          if(response.status == 404) {\n",
       "            console.log(\"Bad video url: \" + url);\n",
       "            let toppath = \"/files/home/\"\n",
       "            let baseurl = url.substring(0, url.indexOf(toppath)+toppath.length);\n",
       "            let endurl = url.substring(url.indexOf(\"/home/198/mp7041/ozone2.mp4\"));\n",
       "            let fixed = baseurl + endurl;\n",
       "            console.log(\"Replaced video url: \" + fixed);\n",
       "            el.src = fixed;\n",
       "            //Also fix download link\n",
       "            document.getElementById('link_video_acdaf30b').href = fixed;\n",
       "          }\n",
       "        });\n",
       "        "
      ],
      "text/plain": [
       "<IPython.core.display.Javascript object>"
      ]
     },
     "metadata": {},
     "output_type": "display_data"
    }
   ],
   "source": [
    "with lv.video(filename=filename, quality=4, resolution=(600,600), width=600, height=600, params=\"autoplay\") as v:\n",
    "    for year, date in tqdm(sorted(max_hole_size_date.items())):\n",
    "        timepoint = ds['toz'].sel(time=date, method='nearest')\n",
    "        colours = accessvis.array_to_rgba(timepoint, colourmap=colourmap, minimum=100e-5,maximum=550e-5, flip=True, opacity=0.8)\n",
    "        accessvis.update_earth_values(lv, dataMode=0, data=colours)\n",
    "        \n",
    "        lv.title(f'Ozone - {year}')\n",
    "        lv.render()"
   ]
  },
  {
   "cell_type": "code",
   "execution_count": null,
   "id": "8259c5dd-63b1-4bec-9437-d52f4a9e5950",
   "metadata": {},
   "outputs": [],
   "source": []
  }
 ],
 "metadata": {
  "kernelspec": {
   "display_name": "Python 3 (ipykernel)",
   "language": "python",
   "name": "python3"
  },
  "language_info": {
   "codemirror_mode": {
    "name": "ipython",
    "version": 3
   },
   "file_extension": ".py",
   "mimetype": "text/x-python",
   "name": "python",
   "nbconvert_exporter": "python",
   "pygments_lexer": "ipython3",
   "version": "3.10.15"
  }
 },
 "nbformat": 4,
 "nbformat_minor": 5
}
