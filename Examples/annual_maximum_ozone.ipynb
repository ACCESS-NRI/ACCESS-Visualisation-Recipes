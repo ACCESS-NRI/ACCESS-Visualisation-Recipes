{
 "cells": [
  {
   "cell_type": "markdown",
   "id": "26c42b1a-14ed-4970-947e-6047970ecd85",
   "metadata": {},
   "source": [
    "# Maximum Ozone Hole Extent\n",
    "Welcome to the **Maximum Ozone Hole Extent** notebook! In this notebook, we will provide a more complex example of how to plot data onto a 3D model of the Earth using the **accessvis** package. \n",
    "\n",
    "In this notebook we will plot both the historical and predicted ozone hole size.\n",
    "* Animate the ozone hole every day for one year.\n",
    "* Calculate the size of the ozone hole.\n",
    "  * This includes calculating the area of each grid cell.\n",
    "* Finding the day of the year where the ozone hole is largest.\n",
    "* Animating this hole over time.\n",
    "\n",
    "The data used is available in project p73 on gadi and takes about 5 minutes to run."
   ]
  },
  {
   "cell_type": "markdown",
   "id": "207ea716-0103-4252-947d-d6b03469ec97",
   "metadata": {},
   "source": [
    "## Initial Setup"
   ]
  },
  {
   "cell_type": "code",
   "execution_count": null,
   "id": "c8aec554-cc9d-49a4-9909-06ab936947b0",
   "metadata": {},
   "outputs": [],
   "source": [
    "import accessvis\n",
    "import os\n",
    "import glob\n",
    "from tqdm.notebook import tqdm\n",
    "import numpy as np\n",
    "import matplotlib.pyplot as plt\n",
    "import xarray as xr"
   ]
  },
  {
   "cell_type": "markdown",
   "id": "d45286ff-ac1f-4077-890f-a61f9abcae33",
   "metadata": {},
   "source": [
    "Finding and pre-loading data to speed up the rest of the notebook (~5GB)."
   ]
  },
  {
   "cell_type": "code",
   "execution_count": null,
   "id": "948836f4-187b-4d8c-bbf4-27f5902f5dd2",
   "metadata": {},
   "outputs": [],
   "source": [
    "datadir = '/g/data/p73/archive/non-CMIP/CMORised/CCMI2022/CSIRO-ARCCSS/ACCESS-CM2-Chem/refD2/r1i1p1f1/Aday/toz/gn/v20220822/'\n",
    "files = sorted(glob.glob(datadir + \"*.nc\"))\n",
    "ds = xr.open_mfdataset(files, combine='nested', concat_dim=\"time\")\n",
    "for f in files:\n",
    "    print(f)\n",
    "ds.load()"
   ]
  },
  {
   "cell_type": "markdown",
   "id": "b46514f1-976a-4d04-bb49-ab6fe4f5e250",
   "metadata": {},
   "source": [
    "## Plot One Year\n",
    "Below we are making a quick animation of the ozone hole throughout 2015.\n",
    "\n",
    "You can clearly see the ozone hole change with the seasons."
   ]
  },
  {
   "cell_type": "code",
   "execution_count": null,
   "id": "2629cb13-19a1-4bb6-9c66-4b1ad2f56e93",
   "metadata": {},
   "outputs": [],
   "source": [
    "lv = accessvis.plot_earth(texture='bluemarble', waves=True, background='black', vertical_exaggeration=30)\n",
    "lv.set_properties(diffuse=0.6, ambient=0.85, specular=0.25, shininess=0.03, light=[1,1,0.98,1], lightpos=[0,0,10000,1])\n",
    "\n",
    "threshold = 220 * 1e-5 #220 DU threshold converted to M\n",
    "\n",
    "colourmap='plasma'\n",
    "cmap = lv.colourmap(colourmap, range=(220, 550))\n",
    "cb = lv.colourbar()\n"
   ]
  },
  {
   "cell_type": "code",
   "execution_count": null,
   "id": "49b85c3a-e695-48ea-b222-7e2fcd7cb25f",
   "metadata": {},
   "outputs": [],
   "source": [
    "filename = 'ozone_one_year.mp4'\n",
    "\n",
    "with lv.video(filename=filename, quality=4, resolution=(600,600), width=600, height=600, params=\"autoplay\") as v:\n",
    "    for i in tqdm(range(365)):\n",
    "        date = np.datetime64('2015-01-01T12:00:00') + np.timedelta64(i, 'D')\n",
    "        timepoint = ds['toz'].sel(time=date, method='nearest') # finding the corrosponding data for that day.\n",
    "        timepoint = np.roll(timepoint, timepoint.shape[1] // 2, axis=1) * 1e5 # rotating the data so it lines up with the earth correctly.\n",
    "        colours = accessvis.array_to_rgba(timepoint, colourmap=colourmap, minimum=220,maximum=550, flip=True, opacity=0.8) # converting to colours\n",
    "        accessvis.update_earth_values(lv, dataMode=0, data=colours) # Overlaying the data onto the earth\n",
    "\n",
    "        # A static earth is a little bit boring. Lets move it as well.\n",
    "        lv.reset()\n",
    "        lv.rotate('y', i)\n",
    "        lv.rotate('x',-80)\n",
    "        \n",
    "        lv.title(f'Ozone - {date}')\n",
    "        lv.render()"
   ]
  },
  {
   "cell_type": "markdown",
   "id": "d99ca74c-18ff-4fd2-a070-f48f6d5d9ab6",
   "metadata": {},
   "source": [
    "## Calculating Grid Cell Area\n",
    "Below we are using the Haversine formula to get the approximate area of each grid cell."
   ]
  },
  {
   "cell_type": "code",
   "execution_count": null,
   "id": "012b66e2-f22c-44de-b026-719ce93c2989",
   "metadata": {},
   "outputs": [],
   "source": [
    "def gridsize(lat1,lon_inc):\n",
    "    #https://en.wikipedia.org/wiki/Haversine_formula\n",
    "    #https://stackoverflow.com/questions/639695/how-to-convert-latitude-or-longitude-to-meters/11172685#11172685\n",
    "    lon1=200\n",
    "    lat2=lat1\n",
    "    lon2=lon1+lon_inc\n",
    "\n",
    "    R = 6378.137 # // Radius of earth in km\n",
    "    dLat = lat2 * np.pi / 180 - lat1 * np.pi / 180\n",
    "    dLon = lon2 * np.pi / 180 - lon1 * np.pi / 180\n",
    "    a = np.sin(dLat/2) * np.sin(dLat/2) + np.cos(lat1 * np.pi / 180) * np.cos(lat2 * np.pi / 180) * np.sin(dLon/2) * np.sin(dLon/2)\n",
    "    c = 2 * np.arctan2(np.sqrt(a), np.sqrt(1-a))\n",
    "    d = R * c\n",
    "    return d * 1000 #; // meters\n",
    "\n",
    "#Modified to use lat/lon grid from our data - first get min,max,inc\n",
    "lats = (float(ds['lat'].min()), float(ds['lat'].max()), float(ds['lat'][1]- ds['lat'][0]))\n",
    "lons = (float(ds['lon'].min()), float(ds['lon'].max()), float(ds['lon'][1]- ds['lon'][0]))\n",
    "\n",
    "#Need to add a tiny amount to end of range\n",
    "mgrid = np.meshgrid(np.arange(lons[0],lons[1]+0.0000001,lons[2]),\n",
    "                    np.arange(lats[0],lats[1]+0.0000001,lats[2]))\n",
    "\n",
    "boxlo,boxla=np.array(mgrid)\n",
    "grid=gridsize(boxla,lons[2])\n",
    "grid_nc = xr.DataArray(grid,coords={'lat':boxla[:,1],'lon':boxlo[1,:]},dims=['lat','lon'])\n",
    "\n",
    "#At the equator for longitude and for latitude anywhere, the following approximations are valid:\n",
    "#1deg ~= 111km = 111000m\n",
    "lat_size=110567 * lats[2] #in m - size of 1 degree\n",
    "grid_nc['m2'] = grid_nc * lat_size\n",
    "grid_nc = grid_nc['m2']\n"
   ]
  },
  {
   "cell_type": "markdown",
   "id": "19ab2acb-c7c7-4b03-91ad-bcb7dcd5307b",
   "metadata": {},
   "source": [
    "Sanity check: grid squares should be smaller near the poles"
   ]
  },
  {
   "cell_type": "code",
   "execution_count": null,
   "id": "df5ebafe-3b2d-4cab-b459-d3274876b728",
   "metadata": {},
   "outputs": [],
   "source": [
    "fig, ax = plt.subplots()\n",
    "c = ax.pcolormesh(grid_nc['lon'], grid_nc['lat'], grid_nc['m2'])\n",
    "fig.colorbar(c, ax=ax)\n",
    "plt.show()"
   ]
  },
  {
   "cell_type": "markdown",
   "id": "53ba1802-76a9-4df9-857b-1597bc1c9265",
   "metadata": {},
   "source": [
    "Sanity check: Earth's surface area: 510.1 million km²"
   ]
  },
  {
   "cell_type": "code",
   "execution_count": null,
   "id": "20801e2a-38db-46c3-b4f2-17a6e42f0bda",
   "metadata": {},
   "outputs": [],
   "source": [
    "earth_sa = 510.1\n",
    "m2 = np.array(grid_nc['m2']).sum()\n",
    "km2 = 1e-6 * m2\n",
    "Mkm2 = 1e-6 * km2\n",
    "error = abs(earth_sa - Mkm2)\n",
    "print(f\"{m2} m\\n{km2} km²\\n{Mkm2} million km²\\nError {round(error / Mkm2 * 100, 2)}%\")\n",
    "#Check within ~1% tolerance\n",
    "assert(error < (earth_sa * 0.01))"
   ]
  },
  {
   "cell_type": "markdown",
   "id": "66104d05-ff28-4ce3-808b-8ef214896285",
   "metadata": {},
   "source": [
    "## Daily Ozone Hole Area\n",
    "* We make a mask of the ozone hole - A cell is a part of the ozone hole when it is at 220 Dobson units or lower.\n",
    "* We multiply this by the area of each cell and sum to get the total area of the hole.\n",
    "* We adjust units for readability."
   ]
  },
  {
   "cell_type": "code",
   "execution_count": null,
   "id": "00bb87d9-df4f-4394-8427-2a8d7bcefff8",
   "metadata": {},
   "outputs": [],
   "source": [
    "def get_hole_all_time(threshold=220*1e-5):\n",
    "    below = ds['toz'] < threshold # Finding cells in of the ozone hole \n",
    "    hole_area = grid_nc['m2'] * below\n",
    "    m2 = hole_area.sum(dim=('lat', 'lon')) # Total Area\n",
    "    km2 = 1e-6 * m2\n",
    "    Mkm2 = 1e-6 * km2\n",
    "\n",
    "    return Mkm2\n",
    "\n",
    "hole_size_daily = get_hole_all_time()"
   ]
  },
  {
   "cell_type": "markdown",
   "id": "f85d6d36-d567-4e42-aa1e-ad4708dfdaa5",
   "metadata": {},
   "source": [
    "## Annual Maximum Ozone Hole Area\n",
    "Below we calculate the maximum hole area each year and plot this"
   ]
  },
  {
   "cell_type": "code",
   "execution_count": null,
   "id": "41a964c9-94ab-4771-afcf-5a61a7249252",
   "metadata": {},
   "outputs": [],
   "source": [
    "max_hole_size = hole_size_daily.groupby('time.year').max()\n",
    "max_hole_size.plot.scatter()"
   ]
  },
  {
   "cell_type": "markdown",
   "id": "3e218d98-cfa9-4b79-9934-2a86fee6b23a",
   "metadata": {},
   "source": [
    "## Calculating the Specific Date When Annual Maximum Occurs"
   ]
  },
  {
   "cell_type": "code",
   "execution_count": null,
   "id": "56d9482a-24c3-4e74-afd2-a163164f63b5",
   "metadata": {},
   "outputs": [],
   "source": [
    "max_hole_size_date = {}\n",
    "\n",
    "for i in tqdm(max_hole_size):\n",
    "    filter_by_year = hole_size_daily.sel(time=hole_size_daily.time.time.dt.year == i.year)\n",
    "    diffs = np.abs(filter_by_year.values - np.array(i))\n",
    "    nearest_index = diffs.argmin()\n",
    "    max_date = filter_by_year.time[nearest_index].values\n",
    "\n",
    "    max_hole_size_date[int(i.year)] = max_date"
   ]
  },
  {
   "cell_type": "markdown",
   "id": "38b013de-f59d-4311-8d6a-6aff35e1e18f",
   "metadata": {},
   "source": [
    "## Animation of the Annual Maximum Ozone Hole\n",
    "We iterate through all years, plotting the largest ozone hole for that year."
   ]
  },
  {
   "cell_type": "markdown",
   "id": "8d8656c8-3510-423a-9901-615b1ae63ec5",
   "metadata": {},
   "source": [
    "#### Plotting the hole itself"
   ]
  },
  {
   "cell_type": "code",
   "execution_count": null,
   "id": "d070215f-398d-42a4-84dd-c022a4a065e3",
   "metadata": {},
   "outputs": [],
   "source": [
    "lv = accessvis.plot_earth(texture='bluemarble', waves=True, background='black', vertical_exaggeration=20)\n",
    "lv.set_properties(diffuse=0.6, ambient=0.85, specular=0.25, shininess=0.03, light=[1,1,0.98,1], lightpos=[0,0,10000,1])\n",
    "\n",
    "threshold = 220e-5 #220 DU threshold converted to M\n",
    "\n",
    "filename = 'max_ozone_hole.mp4'\n",
    "print(filename)"
   ]
  },
  {
   "cell_type": "code",
   "execution_count": null,
   "id": "09872b29-254d-4fb5-8f06-e5c25e10bf52",
   "metadata": {},
   "outputs": [],
   "source": [
    "with lv.video(filename=filename, quality=4, resolution=(600,600), width=600, height=600, params=\"autoplay\") as v:\n",
    "    for year, date in tqdm(sorted(max_hole_size_date.items())):\n",
    "        timepoint = ds['toz'].sel(time=date, method='nearest')\n",
    "        timepoint = np.roll(timepoint, timepoint.shape[1] // 2, axis=1)\n",
    "        hole_mask =  (0.9*(timepoint<threshold))\n",
    "        \n",
    "        colours = accessvis.array_to_rgba(hole_mask, colourmap='coolwarm', flip=True, opacitymap=hole_mask)\n",
    "        accessvis.update_earth_values(lv, dataMode=0, data=colours)\n",
    "        \n",
    "        lv.reset()\n",
    "        lv.rotate('y', year % 360)\n",
    "        lv.rotate('x',-80)\n",
    "        \n",
    "        lv.title(f'Largest Ozone Hole - {year}')\n",
    "        lv.render()"
   ]
  },
  {
   "cell_type": "markdown",
   "id": "50e5e74f-297f-4c2d-beb3-b8733f5b3713",
   "metadata": {},
   "source": [
    "#### Plotting the Ozone Concentration"
   ]
  },
  {
   "cell_type": "code",
   "execution_count": null,
   "id": "1b78a558-e833-467f-ba05-568972b83035",
   "metadata": {},
   "outputs": [],
   "source": [
    "lv = accessvis.plot_earth(texture='bluemarble', waves=True, background='black', vertical_exaggeration=30)\n",
    "lv.set_properties(diffuse=0.6, ambient=0.85, specular=0.25, shininess=0.03, light=[1,1,0.98,1], lightpos=[0,0,10000,1])\n",
    "\n",
    "threshold = 220 * 1e-5 #220 DU threshold converted to M\n",
    "\n",
    "colourmap='plasma'\n",
    "cmap = lv.colourmap(colourmap, range=(220, 550))\n",
    "cb = lv.colourbar()"
   ]
  },
  {
   "cell_type": "code",
   "execution_count": null,
   "id": "f4d886d5-9b07-4cb5-835e-6d25db6c23b9",
   "metadata": {},
   "outputs": [],
   "source": [
    "filename = 'max_ozone_level.mp4'\n",
    "print(filename)\n",
    "\n",
    "with lv.video(filename=filename, quality=4, resolution=(600,600), width=600, height=600, params=\"autoplay\") as v:\n",
    "    for year, date in tqdm(sorted(max_hole_size_date.items())):\n",
    "        timepoint = ds['toz'].sel(time=date, method='nearest')\n",
    "        timepoint = np.roll(timepoint, timepoint.shape[1] // 2, axis=1) * 1e5\n",
    "        colours = accessvis.array_to_rgba(timepoint, colourmap=colourmap, minimum=220,maximum=550, flip=True, opacity=0.8)\n",
    "        accessvis.update_earth_values(lv, dataMode=0, data=colours)\n",
    "\n",
    "        lv.reset()\n",
    "        lv.rotate('y', year % 360)\n",
    "        lv.rotate('x',-80)\n",
    "        \n",
    "        lv.title(f'Ozone Maximum - {year}')\n",
    "        lv.render()"
   ]
  },
  {
   "cell_type": "code",
   "execution_count": null,
   "id": "d51b7a8e-7de6-4c5a-9f69-fea5acb2eb7b",
   "metadata": {},
   "outputs": [],
   "source": []
  }
 ],
 "metadata": {
  "kernelspec": {
   "display_name": "Python 3 (ipykernel)",
   "language": "python",
   "name": "python3"
  },
  "language_info": {
   "codemirror_mode": {
    "name": "ipython",
    "version": 3
   },
   "file_extension": ".py",
   "mimetype": "text/x-python",
   "name": "python",
   "nbconvert_exporter": "python",
   "pygments_lexer": "ipython3",
   "version": "3.11.9"
  }
 },
 "nbformat": 4,
 "nbformat_minor": 5
}
