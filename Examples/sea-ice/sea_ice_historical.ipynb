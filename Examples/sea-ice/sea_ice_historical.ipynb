{
 "cells": [
  {
   "cell_type": "markdown",
   "id": "caa0cce5-daa5-4bf0-8408-d72d878cfb0a",
   "metadata": {},
   "source": [
    "# Historical Sea Ice\n",
    "Welcome to the **Historical Sea Ice** notebook! In this notebook, we will provide a more complex example of how to use accessvis. \n",
    "\n",
    "In this notebook we will plot the historical sea ice cover.\n",
    "* Specify northern or southern hemisphere.\n",
    "* Use custom shaders to display sea ice\n",
    "* Animate the sea ice every day for one year.\n",
    "\n",
    "The data used is available in project xp65 on gadi or it will automatically be downloaded.\n",
    "\n",
    "Since we are using local shaders, you may wish to update your current working directory."
   ]
  },
  {
   "cell_type": "code",
   "execution_count": null,
   "id": "fa4c376a-e805-4a82-863a-748a09b2f7da",
   "metadata": {},
   "outputs": [],
   "source": [
    "import datetime\n",
    "import glob\n",
    "import os\n",
    "import subprocess\n",
    "\n",
    "import numpy as np\n",
    "import matplotlib.pyplot as plt\n",
    "import pytz\n",
    "import scipy\n",
    "from tqdm.notebook import tqdm\n",
    "import xarray as xr\n",
    "\n",
    "import accessvis\n",
    "\n",
    "# os.chdir('/path/to/dir/containing/shaders')"
   ]
  },
  {
   "cell_type": "code",
   "execution_count": null,
   "id": "494b6251-ce82-4c54-b0c8-1f266e37d732",
   "metadata": {},
   "outputs": [],
   "source": [
    "hemisphere = 'south'\n",
    "# hemisphere = 'north'\n",
    "\n",
    "this_year = 2024 # If you are NOT using gadi, change to the current year.\n",
    "# The NOAA data we download is only kept for the current and previous year. Gadi has earlier data cached.\n",
    "\n",
    "accessvis.resolution_selection(default=3)"
   ]
  },
  {
   "cell_type": "markdown",
   "id": "889df40a-99b6-40ee-b0b5-1af4c0e6a07e",
   "metadata": {},
   "source": [
    "## Download Data\n",
    "On gadi, this data is available on xp65.\n",
    "If you are not using gadi, please change base_dir below and it will download the relevant files.\n",
    "\n",
    "NOAA/NSIDC Climate Data Record of Passive Microwave Sea Ice Concentration, Version 4\n",
    "* https://nsidc.org/sites/default/files/g02202-v004-userguide_1_1.pdf\n",
    "* https://nsidc.org/data/g02202/versions/4\n",
    "* https://noaadata.apps.nsidc.org/NOAA/G02202_V4/south/daily/2023/\n",
    "* https://noaadata.apps.nsidc.org/NOAA/G10016_V2/south/daily/2023/ ??"
   ]
  },
  {
   "cell_type": "markdown",
   "id": "58af48a5-1515-4d99-8e01-02e49cde02ec",
   "metadata": {},
   "source": [
    "#### Historical Data"
   ]
  },
  {
   "cell_type": "code",
   "execution_count": null,
   "id": "d7598725-5233-46b1-af1c-a663a702a9bb",
   "metadata": {
    "scrolled": true
   },
   "outputs": [],
   "source": [
    "base_dir = '/g/data/xp65/public/apps/access-vis-data/'\n",
    "\n",
    "#https://noaadata.apps.nsidc.org/NOAA/G02202_V4/south/daily/2023/\n",
    "H = hemisphere[0].lower() + 'h'\n",
    "\n",
    "#All years data\n",
    "fn = f'seaice_conc_daily_{H}_*.nc'\n",
    "# Cached data location\n",
    "datadir = f'{base_dir}noaadata.apps.nsidc.org/NOAA/G02202_V4/{hemisphere}/aggregate/'\n",
    "print(datadir)\n",
    "\n",
    "#download files if not existing\n",
    "cmd = f\"wget -nc -e robots=off --recursive --no-parent https://noaadata.apps.nsidc.org/NOAA/G02202_V4/{hemisphere}/aggregate/\"\n",
    "p = subprocess.Popen(cmd.split(), cwd=base_dir)\n",
    "p.wait()"
   ]
  },
  {
   "cell_type": "markdown",
   "id": "f995fb34-0de8-4bba-8916-e276fbc15217",
   "metadata": {},
   "source": [
    "#### Near Real Time Data\n",
    "Note that on Gadi, you may not have write permissions and will not be able to update."
   ]
  },
  {
   "cell_type": "code",
   "execution_count": null,
   "id": "1206826c-fdfe-4281-91f6-7bda6382ff3d",
   "metadata": {
    "scrolled": true
   },
   "outputs": [],
   "source": [
    "#https://noaadata.apps.nsidc.org/NOAA/G10016_V2/south/daily/\n",
    "\n",
    "#Get/update all daily NRT data for current year\n",
    "subdir = f'noaadata.apps.nsidc.org/NOAA/G10016_V2/{hemisphere}/daily/'\n",
    "\n",
    "# To get the latest data, you will need to delete index.html first, and then re-run.\n",
    "ifn = os.path.join(base_dir, subdir, str(this_year), 'index.html')\n",
    "if os.path.exists(ifn):\n",
    "    try:\n",
    "        os.remove(ifn)\n",
    "    except PermissionError:\n",
    "        print('No permission to change these files')\n",
    "\n",
    "cmd = f\"wget -nc -e robots=off --recursive --no-parent https://noaadata.apps.nsidc.org/NOAA/G10016_V2/{hemisphere}/daily/{this_year}/\"\n",
    "print(cmd)\n",
    "p = subprocess.Popen(cmd.split(), cwd=base_dir)\n",
    "p.wait()"
   ]
  },
  {
   "cell_type": "markdown",
   "id": "13f1a778-c47c-40d6-98e7-f1740919193f",
   "metadata": {},
   "source": [
    "## Open Data:"
   ]
  },
  {
   "cell_type": "code",
   "execution_count": null,
   "id": "ae49053f-04a0-470a-b660-b1f847e86e09",
   "metadata": {
    "scrolled": true
   },
   "outputs": [],
   "source": [
    "ds_sea_ice = xr.open_mfdataset(datadir + fn, combine='nested', concat_dim='tdim')\n",
    "ds_sea_ice"
   ]
  },
  {
   "cell_type": "code",
   "execution_count": null,
   "id": "440fd919-8b19-47cc-bd3e-36ed213ac342",
   "metadata": {},
   "outputs": [],
   "source": [
    "lyear = datetime.datetime.now().year - 1 #Last year\n",
    "\n",
    "#Note: The first 6 months are in an aggregate file, the rest in daily files\n",
    "aggregate = [f'{datadir}seaice_conc_daily_{H}_{lyear}_v04r00.nc']\n",
    "dailyfiles_24 = sorted(glob.glob(os.path.join(base_dir, subdir, str(year),f'seaice_conc_daily_icdr_{H}_2024*_f18_v02r00.nc')))\n",
    "files = aggregate + dailyfiles_24\n",
    "\n",
    "ds_sea_ice_NRT = xr.open_mfdataset(files, combine='nested', concat_dim='tdim')"
   ]
  },
  {
   "cell_type": "markdown",
   "id": "25d8de85-7aa3-4b45-bcd4-8000135322ca",
   "metadata": {},
   "source": [
    "Data information:"
   ]
  },
  {
   "cell_type": "code",
   "execution_count": null,
   "id": "2e7366a7-3f47-46b9-b671-3255ab374636",
   "metadata": {},
   "outputs": [],
   "source": [
    "STEPS = ds_sea_ice_NRT['cdr_seaice_conc'].shape[0]\n",
    "print('Number of time stpes:', STEPS)\n",
    "\n",
    "latitude = np.array(ds_sea_ice['latitude'].sel(tdim=0))\n",
    "longitude = np.array(ds_sea_ice['longitude'].sel(tdim=0))\n",
    "print('Lat/Lon Extents:')\n",
    "print(latitude[0][0], longitude[0][0])\n",
    "print(latitude[-1][-1], longitude[-1][-1])\n",
    "\n",
    "dates = np.array(ds_sea_ice['time']).astype('datetime64[D]')\n",
    "dates_NRT = np.array(ds_sea_ice_NRT['time']).astype('datetime64[D]')\n",
    "print('Start/End Dates: ', min(dates), max(dates))\n",
    "print('Start/End NRT Dates', min(dates_NRT), max(dates_NRT))"
   ]
  },
  {
   "cell_type": "markdown",
   "id": "f56ffea1-e3be-4cc4-bb0e-9f69b383254b",
   "metadata": {},
   "source": [
    "Helper functions to get the appropriate data:"
   ]
  },
  {
   "cell_type": "code",
   "execution_count": null,
   "id": "bdeb3421-c9b3-41b4-b8fe-4cb0405dbf4a",
   "metadata": {},
   "outputs": [],
   "source": [
    "def get_data_at(date):\n",
    "    #Find timestep index and dataset for given date\n",
    "    if date.year >= 2023:\n",
    "        if date > dates_NRT[-1]:\n",
    "            return None\n",
    "        #2023 (using data up to day 309 - 5/11/2023)\n",
    "        #T = date.timetuple().tm_yday - 1 #Day of year [0-365]\n",
    "        #ts = dates_NRT[T]\n",
    "        itemindex = np.where(dates_NRT == date)\n",
    "        T = itemindex[0]\n",
    "        ts = dates_NRT[T]\n",
    "        assert(ts == date)\n",
    "        dat = ds_sea_ice_NRT.sel(tdim=T)\n",
    "    else:\n",
    "        itemindex = np.where(dates == date)\n",
    "        T = itemindex[0]\n",
    "        ts = dates[T] #.item() #.astype(datetime.datetime)\n",
    "        assert(ts == date)\n",
    "        dat = ds_sea_ice.sel(tdim=T)\n",
    "    return dat\n",
    "\n",
    "def get_grid():\n",
    "    #Just get the raw grid points\n",
    "    altitudes = np.zeros_like(latitude) + 0.0005 #Raise the sea ice slightly above sea level (0.001 = 1 Metre)\n",
    "    arrays = accessvis.latlon_to_3D(latitude, longitude, altitudes)\n",
    "    V = np.dstack(arrays)\n",
    "    print(V.shape)\n",
    "    return V\n",
    "\n",
    "def get_ice_data_at(date):\n",
    "    dat = get_data_at(date)\n",
    "    if dat is None:\n",
    "        return dat\n",
    "    dat = dat['cdr_seaice_conc']\n",
    "    #m = dat.where(dat>1)\n",
    "    #mask = np.array(m) > 1\n",
    "    dat = dat.where(dat>0)\n",
    "    #dat = dat.where(dat<=1) #Clears mask\n",
    "    data = np.array(dat)[0]\n",
    "    #print(data.shape)\n",
    "    \n",
    "    #Land mask > 1.0\n",
    "    #data[mask] = data.max() #Land mask - replace with max ice value\n",
    "\n",
    "    if hemisphere == 'south':\n",
    "        #Want to keep land max = 1.0 for antarctica, but clear islands\n",
    "        #Clear tierra del fuego and nearby islands\n",
    "        data[0:140,0:20] = 0.\n",
    "    \n",
    "        #Replace land with max ice\n",
    "        data[data > 1.0] = 1.0\n",
    "    else:\n",
    "        #Replace land with max ice\n",
    "        data[data > 1.0] = 0.0\n",
    "    \n",
    "    #Replace NaN with 0.0\n",
    "    data[np.isnan(data)] = 0.0\n",
    "\n",
    "    return data\n",
    "   \n",
    "def get_ice_data_at_orig(date):\n",
    "    dat = get_data_at(date)\n",
    "    dat = dat['cdr_seaice_conc'].where(dat['cdr_seaice_conc']<=1)\n",
    "    dat = dat.where(dat>0)\n",
    "    data = np.array(dat)\n",
    "    data[np.isnan(data)] = 0.0\n",
    "    return data[0]\n",
    "\n",
    "\n",
    "\n",
    "def get_ice_image(D, mmin=None, mmax=None):\n",
    "    #Normalise\n",
    "    if mmin is not None and mmax is not None:\n",
    "        image = (D-mmin)/(mmax-mmin)\n",
    "        #Clip out of [0,1] range - in case defined range is not the global minima/maxima\n",
    "        image = np.clip(image, 0, 1)\n",
    "    else:\n",
    "        image = D\n",
    "    #Filter out < 0.1\n",
    "    #image =  image * 0.91 #[image < 0.9] = 0.0\n",
    "    #image[image < 0.1] = 0.0\n",
    "    \n",
    "    return np.uint8(image*255)"
   ]
  },
  {
   "cell_type": "markdown",
   "id": "88e786e1-0cc2-4d74-907f-1993693e7ab3",
   "metadata": {},
   "source": [
    "## Plotting a sample of the data\n",
    "Here we are plotting the sea ice cover for 1st June 1980. Note: you may want to change this value to align with winter if plotting northern hemisphere ice cover."
   ]
  },
  {
   "cell_type": "code",
   "execution_count": null,
   "id": "20bee055-6f28-464e-9d24-4a5335eec946",
   "metadata": {},
   "outputs": [],
   "source": [
    "example_date = datetime.datetime.strptime(\"1980-06-01 00:00:00\", \"%Y-%m-%d %H:%M:%S\")\n",
    "example_data = get_ice_data_at(example_date.date())\n",
    "example_image = get_ice_image(example_data)\n",
    "plt.imshow(example_image)"
   ]
  },
  {
   "cell_type": "markdown",
   "id": "54ca97ea-40bd-4624-8b18-3a4739a43f68",
   "metadata": {},
   "source": [
    "## Plotting\n",
    "Now we will plot the data on top of the Earth. We begin by plotting the Earth."
   ]
  },
  {
   "cell_type": "code",
   "execution_count": null,
   "id": "cb9957eb-2b5d-43a0-ae7d-a5d682dd3419",
   "metadata": {},
   "outputs": [],
   "source": [
    "lv = accessvis.plot_earth(texture='bluemarble', waves=True, background='black', vertical_exaggeration=30, hemisphere=hemisphere[0].upper())\n",
    "lv.set_properties(diffuse=0.6, ambient=0.85, specular=0.25, shininess=0.03, light=[1,1,0.98,1], lightpos=[0,0,10000,1])\n",
    "lv.display(resolution=(600,600))"
   ]
  },
  {
   "cell_type": "markdown",
   "id": "031331d3-3c50-4b85-8975-1047f3ef0fdc",
   "metadata": {},
   "source": [
    "#### Ice rendering tweaks - sea ice render with textures\n",
    "Here we are creating custom ice shaders. These are defined in local files. If this fails, be sure to check the current working directory contains the relevant files."
   ]
  },
  {
   "cell_type": "code",
   "execution_count": null,
   "id": "8f059ce9-4feb-4d4e-99f4-918de3d5e828",
   "metadata": {},
   "outputs": [],
   "source": [
    "tris0 = lv.surface(\"sea_ice\", renderer='sortedtriangles', ambient=0.9)\n",
    "tris0['shaders'] = ['triShader_ice.vert', 'triShader_ice.frag']\n",
    "uniforms = {}\n",
    "for i in range(10,101,10):\n",
    "    t = f\"ice{i}\"\n",
    "    uniforms[t] = t + '.png'\n",
    "tris0['uniforms'] = uniforms\n",
    "tris0['repeat'] = True\n",
    "\n",
    "z = 2\n",
    "mesh = get_grid()\n",
    "mesh = scipy.ndimage.zoom(mesh, [z,z,1], order=3)\n",
    "\n",
    "tris0.vertices(mesh)"
   ]
  },
  {
   "cell_type": "markdown",
   "id": "de83553c-4890-4b0c-a17e-b72d62258ff1",
   "metadata": {},
   "source": [
    "Lets overlay the data to see what it looks like (I'm plotting twice here as the shaders don't update immediately)"
   ]
  },
  {
   "cell_type": "code",
   "execution_count": null,
   "id": "a9f7db21-47a6-41c4-81b2-d22b9218a257",
   "metadata": {},
   "outputs": [],
   "source": [
    "date = datetime.date(2001, 1, 1)\n",
    "D = get_ice_data_at(date)\n",
    "I = get_ice_image(D)\n",
    "tris0.texture(I, flip=False)"
   ]
  },
  {
   "cell_type": "code",
   "execution_count": null,
   "id": "953f95d1-2109-494e-8f53-4ad34b0f9729",
   "metadata": {},
   "outputs": [],
   "source": [
    "lv.display(resolution=(600,600))\n",
    "lv.display(resolution=(600,600))"
   ]
  },
  {
   "cell_type": "markdown",
   "id": "aa82dbf8-c1be-4361-9f46-144a7c8c3a3d",
   "metadata": {},
   "source": [
    "### Animation:\n",
    "Below we are animating ice cover for the year 2001. Feel free to change the start date, or consider changing the code to graph the entire date range. Notice how the sun moves across a year.\n",
    "\n",
    "We also are overlaying a season widget. We call this with `wid.update_widget()`.\n",
    "\n",
    "We use our custom shaders by running `tris0.texture(I, flip=False)`. \n"
   ]
  },
  {
   "cell_type": "code",
   "execution_count": null,
   "id": "ecac6953-8c63-43fc-b446-08820196c35f",
   "metadata": {},
   "outputs": [],
   "source": [
    "start = datetime.date(2001, 1, 1)\n",
    "wid = accessvis.SeasonWidget(lv=lv, scale=0.2, offset=(1,0), text_colour='white')\n",
    "#todo: change to 240fps, change year range too\n",
    "with lv.video(filename=f'sea_ice_{hemisphere}.mp4', fps=30, resolution=(250,250), params=\"autoplay\"):\n",
    "    tz=pytz.timezone(\"Australia/Brisbane\")\n",
    "\n",
    "    for i in tqdm(range(365)):\n",
    "        date = start + datetime.timedelta(days=i)\n",
    "        D = get_ice_data_at(date)\n",
    "        I = get_ice_image(D)\n",
    "        wid.update_widget(date=date)\n",
    "\n",
    "        tris0.texture(I, flip=False)\n",
    "\n",
    "        \n",
    "        # #Update sun position\n",
    "        if hemisphere == 'north':\n",
    "            #Brisbane time = UTC+10, so 22:00 == UTC midday\n",
    "            when = datetime.datetime(date.year, date.month, date.day, 22, 0, 0, 0, tz)\n",
    "        else:\n",
    "            # Brisbane tz because no daylight savings\n",
    "            when = datetime.datetime(date.year, date.month, date.day, 12, 0, 0, 0, tz)\n",
    "        lv.set_properties(lightpos=accessvis.sun_light(time=when))\n",
    "        accessvis.update_earth_datetime(lv, when=when, sunlight=True)\n",
    "        \n",
    "        lv.render()\n",
    "wid.remove()# removing widget so we don't make loads of them if this gets run again."
   ]
  },
  {
   "cell_type": "markdown",
   "id": "cd71a49d-7c0a-422e-a899-44b722fa4a34",
   "metadata": {},
   "source": [
    "## Data sources:\n",
    "\n",
    "National Snow and Ice Data Center\n",
    "\n",
    "- https://noaadata.apps.nsidc.org/\n",
    "- https://nsidc.org/data/user-resources/help-center/how-access-and-download-noaansidc-data\n",
    "- https://nsidc.org/about/data-use-and-copyright\n",
    "\n",
    "Historical Antarctic daily satellite data\n",
    "( NOAA/NSIDC Climate Data Record of Passive Microwave Sea Ice Concentration, Version 4 )\n",
    "Data set id: G02202\n",
    "DOI: 10.7265/efmz-2t65\n",
    "- https://noaadata.apps.nsidc.org/NOAA/G02202_V4/south/daily/1978/ (-2023)\n",
    "- https://nsidc.org/data/g02202/versions/4\n",
    "\n",
    "    Meier, W. N., F. Fetterer, A. K. Windnagel, and J. S. Stewart. (2021). NOAA/NSIDC Climate Data Record of Passive Microwave Sea Ice Concentration, Version 4 [Data Set]. Boulder, Colorado USA. National Snow and Ice Data Center. https://doi.org/10.7265/efmz-2t65. Date Accessed 02-19-2024.\n",
    "\n",
    "Current year Antarctic daily satellite data\n",
    "( Near-Real-Time NOAA/NSIDC Climate Data Record of Passive Microwave Sea Ice Concentration, Version 2 )\n",
    "Data set id: G10016\n",
    "DOI: 10.7265/tgam-yv28\n",
    "- https://noaadata.apps.nsidc.org/NOAA/G10016_V2/south/daily/2023/\n",
    "- https://nsidc.org/data/g10016/versions/2\n",
    "\n",
    "    Meier, W. N., F. Fetterer, A. K. Windnagel, and J. S. Stewart. (2021). Near-Real-Time NOAA/NSIDC Climate Data Record of Passive Microwave Sea Ice Concentration, Version 2 [Data Set]. Boulder, Colorado USA. National Snow and Ice Data Center. https://doi.org/10.7265/tgam-yv28. Date Accessed 02-19-2024.\n",
    "\n",
    "#### Earth satellite imagery and ocean/water masks\n",
    "- https://earthobservatory.nasa.gov/features/BlueMarble\n",
    "\n",
    "#### Topography:\n",
    "- https://visibleearth.nasa.gov/images/73934/topography\n",
    "- https://eoimages.gsfc.nasa.gov/images/imagerecords/73000/73934/gebco_08_rev_elev_21600x10800.png\n",
    "\n",
    "#### Bathymetry\n",
    "- https://visibleearth.nasa.gov/images/73963/bathymetry\n",
    "- https://eoimages.gsfc.nasa.gov/images/imagerecords/73000/73963/gebco_08_rev_bath_21600x10800.png\n",
    "\n",
    "#### Textures and misc resources\n",
    "https://www.manytextures.com/texture/23/sea-water/ Sea water by ManyTextures.com is licensed under a Creative Commons Attribution 4.0 International License. https://creativecommons.org/licenses/by/4.0/"
   ]
  },
  {
   "cell_type": "code",
   "execution_count": null,
   "id": "f9c0a724-e17a-4391-a47c-9ef12fa6b8ec",
   "metadata": {},
   "outputs": [],
   "source": []
  }
 ],
 "metadata": {
  "kernelspec": {
   "display_name": "Python 3 (ipykernel)",
   "language": "python",
   "name": "python3"
  },
  "language_info": {
   "codemirror_mode": {
    "name": "ipython",
    "version": 3
   },
   "file_extension": ".py",
   "mimetype": "text/x-python",
   "name": "python",
   "nbconvert_exporter": "python",
   "pygments_lexer": "ipython3",
   "version": "3.12.3"
  }
 },
 "nbformat": 4,
 "nbformat_minor": 5
}
